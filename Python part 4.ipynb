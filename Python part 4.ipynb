{
 "cells": [
  {
   "cell_type": "markdown",
   "id": "9474670c",
   "metadata": {},
   "source": [
    "## Content of Part-4\n",
    "\n",
    "Class\n",
    "\n",
    "Objects\n",
    "\n",
    "__init__\n",
    "\n",
    "Constructor\n",
    "\n",
    "Self\n",
    "\n",
    "Types of variable in OOPs\n",
    "\n",
    "Types of method in OOPs\n",
    "\n",
    "Inner class"
   ]
  },
  {
   "cell_type": "markdown",
   "id": "4de85a29",
   "metadata": {},
   "source": [
    "# OBJECT ORIENTED PROGRAMMING"
   ]
  },
  {
   "cell_type": "code",
   "execution_count": 2,
   "id": "b751fe98",
   "metadata": {},
   "outputs": [
    {
     "ename": "TypeError",
     "evalue": "config() missing 1 required positional argument: 'self'",
     "output_type": "error",
     "traceback": [
      "\u001b[1;31m---------------------------------------------------------------------------\u001b[0m",
      "\u001b[1;31mTypeError\u001b[0m                                 Traceback (most recent call last)",
      "\u001b[1;32mC:\\Users\\SAURAB~1\\AppData\\Local\\Temp/ipykernel_22096/288997159.py\u001b[0m in \u001b[0;36m<module>\u001b[1;34m\u001b[0m\n\u001b[0;32m      7\u001b[0m \u001b[0mcom1\u001b[0m\u001b[1;33m=\u001b[0m\u001b[0mComputer\u001b[0m\u001b[1;33m(\u001b[0m\u001b[1;33m)\u001b[0m \u001b[1;31m# object creation\u001b[0m\u001b[1;33m\u001b[0m\u001b[1;33m\u001b[0m\u001b[0m\n\u001b[0;32m      8\u001b[0m \u001b[1;33m\u001b[0m\u001b[0m\n\u001b[1;32m----> 9\u001b[1;33m \u001b[0mComputer\u001b[0m\u001b[1;33m.\u001b[0m\u001b[0mconfig\u001b[0m\u001b[1;33m(\u001b[0m\u001b[1;33m)\u001b[0m \u001b[1;31m# calling method\u001b[0m\u001b[1;33m\u001b[0m\u001b[1;33m\u001b[0m\u001b[0m\n\u001b[0m\u001b[0;32m     10\u001b[0m \u001b[1;31m# will give an error\u001b[0m\u001b[1;33m\u001b[0m\u001b[1;33m\u001b[0m\u001b[1;33m\u001b[0m\u001b[0m\n",
      "\u001b[1;31mTypeError\u001b[0m: config() missing 1 required positional argument: 'self'"
     ]
    }
   ],
   "source": [
    "# class\n",
    "\n",
    "class Computer:\n",
    "    def config(self):\n",
    "        print(\"16GB RAM\",\"1TB HDD\")\n",
    "\n",
    "com1=Computer() # object creation\n",
    "\n",
    "Computer.config() # calling method\n",
    "# will give an error"
   ]
  },
  {
   "cell_type": "markdown",
   "id": "b99e0297",
   "metadata": {},
   "source": [
    "##### Explanation:\n",
    "\n",
    "One class can have multiple object.\n",
    "\n",
    "Here, we have one object com1. config() method will change its behavior based on object because different object may have different behavior.\n",
    "\n",
    "In this case we are not depending on any data but may be there is chance that config() will depend on some data and every object will have its own data. Every object is different.\n",
    "\n",
    "We are callling config() for which object i am doing that we have to mention."
   ]
  },
  {
   "cell_type": "code",
   "execution_count": 3,
   "id": "e2f4cfd9",
   "metadata": {},
   "outputs": [
    {
     "name": "stdout",
     "output_type": "stream",
     "text": [
      "16GB RAM 1TB HDD\n"
     ]
    }
   ],
   "source": [
    "# class\n",
    "\n",
    "class Computer:\n",
    "    def config(self):\n",
    "        print(\"16GB RAM\",\"1TB HDD\")\n",
    "\n",
    "com1=Computer() # object creation\n",
    "\n",
    "Computer.config(com1) # calling method"
   ]
  },
  {
   "cell_type": "code",
   "execution_count": 4,
   "id": "b0abf66f",
   "metadata": {},
   "outputs": [
    {
     "name": "stdout",
     "output_type": "stream",
     "text": [
      "16GB RAM 1TB HDD\n",
      "16GB RAM 1TB HDD\n"
     ]
    }
   ],
   "source": [
    "# class\n",
    "\n",
    "class Computer:\n",
    "    def config(self):\n",
    "        print(\"16GB RAM\",\"1TB HDD\")\n",
    "\n",
    "com1=Computer() # object creation\n",
    "com2=Computer() # object creation\n",
    "\n",
    "Computer.config(com1) # calling method\n",
    "Computer.config(com2) # calling method"
   ]
  },
  {
   "cell_type": "markdown",
   "id": "b1fbde34",
   "metadata": {},
   "source": [
    "##### Another way to call method"
   ]
  },
  {
   "cell_type": "code",
   "execution_count": 6,
   "id": "35769cfd",
   "metadata": {},
   "outputs": [
    {
     "name": "stdout",
     "output_type": "stream",
     "text": [
      "16GB RAM 1TB HDD\n"
     ]
    }
   ],
   "source": [
    "# class\n",
    "\n",
    "class Computer:\n",
    "    def config(self):\n",
    "        print(\"16GB RAM\",\"1TB HDD\")\n",
    "\n",
    "com1=Computer() # object creation\n",
    "\n",
    "com1.config() # another of calling method"
   ]
  },
  {
   "cell_type": "markdown",
   "id": "cae2e61f",
   "metadata": {},
   "source": [
    "##### What happen above:\n",
    "\n",
    "Behind the scene, config() will take com1 as an argument and pass that istself.\n",
    "\n",
    "In this case we are using object itself to call function. Also we are not passing it. By default it get passed."
   ]
  },
  {
   "cell_type": "code",
   "execution_count": 7,
   "id": "a797399a",
   "metadata": {},
   "outputs": [
    {
     "data": {
      "text/plain": [
       "3"
      ]
     },
     "execution_count": 7,
     "metadata": {},
     "output_type": "execute_result"
    }
   ],
   "source": [
    "a=5\n",
    "a.bit_length()"
   ]
  },
  {
   "cell_type": "markdown",
   "id": "d6156d71",
   "metadata": {},
   "source": [
    "# SPECIAL FUNCTION (_ _init_ _)"
   ]
  },
  {
   "cell_type": "markdown",
   "id": "e7bf26b2",
   "metadata": {},
   "source": [
    "All classes have a function called _ _init_ _(), which is always executed when the class is being initiated.\n",
    "\n",
    "Use the _ _init_ _() function to assign values to object properties, or other operations that are necessary to do when the object is being created:"
   ]
  },
  {
   "cell_type": "code",
   "execution_count": 15,
   "id": "8047309a",
   "metadata": {},
   "outputs": [
    {
     "name": "stdout",
     "output_type": "stream",
     "text": [
      "John\n",
      "36\n"
     ]
    }
   ],
   "source": [
    "# Create a class named Person, use the __init__() function to assign values for name and age:\n",
    "\n",
    "class Person:\n",
    "    def __init__(self, name, age):\n",
    "        self.name = name\n",
    "        self.age = age\n",
    "\n",
    "p1 = Person(\"John\", 36)\n",
    "\n",
    "print(p1.name)\n",
    "print(p1.age)"
   ]
  },
  {
   "cell_type": "markdown",
   "id": "863a36b9",
   "metadata": {},
   "source": [
    "### Note:\n",
    "\n",
    "The _ _init_ _() function is called automatically every time the class is being used to create a new object."
   ]
  },
  {
   "cell_type": "code",
   "execution_count": 16,
   "id": "5a4f0eab",
   "metadata": {},
   "outputs": [
    {
     "name": "stdout",
     "output_type": "stream",
     "text": [
      "in init\n",
      "16GB RAM 1TB HDD\n"
     ]
    }
   ],
   "source": [
    "# __init__ mehtod\n",
    "\n",
    "class Computer:\n",
    "    def __init__(self):\n",
    "        print(\"in init\")\n",
    "        \n",
    "    def config(self):\n",
    "        print(\"16GB RAM\",\"1TB HDD\")\n",
    "\n",
    "com1=Computer() # object\n",
    "\n",
    "com1.config()"
   ]
  },
  {
   "cell_type": "code",
   "execution_count": 17,
   "id": "b1ce3ae1",
   "metadata": {},
   "outputs": [
    {
     "name": "stdout",
     "output_type": "stream",
     "text": [
      "in init\n",
      "in init\n",
      "16GB RAM 1TB HDD\n",
      "16GB RAM 1TB HDD\n"
     ]
    }
   ],
   "source": [
    "# __init__ mehtod\n",
    "\n",
    "class Computer:\n",
    "    def __init__(self):\n",
    "        print(\"in init\")\n",
    "        \n",
    "    def config(self):\n",
    "        print(\"16GB RAM\",\"1TB HDD\")\n",
    "\n",
    "com1=Computer() # object\n",
    "com2=Computer()\n",
    "\n",
    "com1.config()\n",
    "com2.config()"
   ]
  },
  {
   "cell_type": "markdown",
   "id": "48a9604e",
   "metadata": {},
   "source": [
    "##### What happen above:\n",
    "\n",
    "This _ _init_ _ method is called at when we create object.\n",
    "\n",
    "It is like a constructor"
   ]
  },
  {
   "cell_type": "markdown",
   "id": "be3edd98",
   "metadata": {},
   "source": [
    "##### Output explanation:\n",
    "\n",
    "\"in init\" get printed two times because for every object it will get called ones.\n",
    "\n",
    "We have two objects above com1 & com2. So, it will in two times."
   ]
  },
  {
   "cell_type": "markdown",
   "id": "adae7316",
   "metadata": {},
   "source": [
    "##### lets pass some arguments inside _ _int_ _ :-\n",
    "\n",
    "Look at below example:-"
   ]
  },
  {
   "cell_type": "code",
   "execution_count": 18,
   "id": "c5350ae0",
   "metadata": {},
   "outputs": [
    {
     "name": "stdout",
     "output_type": "stream",
     "text": [
      "Config is:  i7 16\n",
      "Config is:  Ryzen 5 8\n"
     ]
    }
   ],
   "source": [
    "# passing arguments to __init__\n",
    "\n",
    "class Computer:\n",
    "    def __init__(self,cpu,ram): # cpu,ram are arguments\n",
    "        self.cpu=cpu\n",
    "        self.ram=ram\n",
    "        \n",
    "    def config(self):\n",
    "        print(\"Config is: \",self.cpu,self.ram)\n",
    "\n",
    "com1=Computer(\"i7\",16) # object\n",
    "com2=Computer(\"Ryzen 5\",8)\n",
    "\n",
    "com1.config()\n",
    "com2.config()"
   ]
  },
  {
   "cell_type": "markdown",
   "id": "e905bba0",
   "metadata": {},
   "source": [
    "##### Explanation:\n",
    "\n",
    "We are accepting three arguments: (self,cpu,ram)\n",
    "\n",
    "and we are passing (i7,16) that is two arguments.\n",
    "\n",
    "When we say Compute(\"i7\",16); we are passing com1 by default which is like:\n",
    "\n",
    "Computer(com1,\"i7\",16)"
   ]
  },
  {
   "cell_type": "markdown",
   "id": "1568dd1e",
   "metadata": {},
   "source": [
    "###### Points:\n",
    "\n",
    "(1) cpu,ram is just an argument here. \n",
    "\n",
    "(2) We want use it as part of object:\n",
    "\n",
    "self.cpu=cpu\n",
    "self.ram=ram\n",
    "\n",
    "(3)self is object here\n",
    "\n",
    "(4) No compulsion that we have same name. We can have different name:\n",
    "\n",
    "self.abc=cpu\n",
    "self.xyz=ram\n",
    "\n",
    "\n",
    "\n",
    "(6) Whatever value we passing here \"i7\"(line 11) goes to cpu as an argument it will be assign to object which is self(here)\n",
    "\n",
    "(7) In line 9, isntead of writing this, if we write print(\"Config is: \",cpu,ram) then this will generate ann error (look below):-"
   ]
  },
  {
   "cell_type": "code",
   "execution_count": 19,
   "id": "ea298942",
   "metadata": {},
   "outputs": [
    {
     "ename": "NameError",
     "evalue": "name 'cpu' is not defined",
     "output_type": "error",
     "traceback": [
      "\u001b[1;31m---------------------------------------------------------------------------\u001b[0m",
      "\u001b[1;31mNameError\u001b[0m                                 Traceback (most recent call last)",
      "\u001b[1;32mC:\\Users\\SAURAB~1\\AppData\\Local\\Temp/ipykernel_22096/363454443.py\u001b[0m in \u001b[0;36m<module>\u001b[1;34m\u001b[0m\n\u001b[0;32m     12\u001b[0m \u001b[0mcom2\u001b[0m\u001b[1;33m=\u001b[0m\u001b[0mComputer\u001b[0m\u001b[1;33m(\u001b[0m\u001b[1;34m\"Ryzen 5\"\u001b[0m\u001b[1;33m,\u001b[0m\u001b[1;36m8\u001b[0m\u001b[1;33m)\u001b[0m\u001b[1;33m\u001b[0m\u001b[1;33m\u001b[0m\u001b[0m\n\u001b[0;32m     13\u001b[0m \u001b[1;33m\u001b[0m\u001b[0m\n\u001b[1;32m---> 14\u001b[1;33m \u001b[0mcom1\u001b[0m\u001b[1;33m.\u001b[0m\u001b[0mconfig\u001b[0m\u001b[1;33m(\u001b[0m\u001b[1;33m)\u001b[0m\u001b[1;33m\u001b[0m\u001b[1;33m\u001b[0m\u001b[0m\n\u001b[0m\u001b[0;32m     15\u001b[0m \u001b[0mcom2\u001b[0m\u001b[1;33m.\u001b[0m\u001b[0mconfig\u001b[0m\u001b[1;33m(\u001b[0m\u001b[1;33m)\u001b[0m\u001b[1;33m\u001b[0m\u001b[1;33m\u001b[0m\u001b[0m\n",
      "\u001b[1;32mC:\\Users\\SAURAB~1\\AppData\\Local\\Temp/ipykernel_22096/363454443.py\u001b[0m in \u001b[0;36mconfig\u001b[1;34m(self)\u001b[0m\n\u001b[0;32m      7\u001b[0m \u001b[1;33m\u001b[0m\u001b[0m\n\u001b[0;32m      8\u001b[0m     \u001b[1;32mdef\u001b[0m \u001b[0mconfig\u001b[0m\u001b[1;33m(\u001b[0m\u001b[0mself\u001b[0m\u001b[1;33m)\u001b[0m\u001b[1;33m:\u001b[0m\u001b[1;33m\u001b[0m\u001b[1;33m\u001b[0m\u001b[0m\n\u001b[1;32m----> 9\u001b[1;33m         \u001b[0mprint\u001b[0m\u001b[1;33m(\u001b[0m\u001b[1;34m\"Config is: \"\u001b[0m\u001b[1;33m,\u001b[0m\u001b[0mcpu\u001b[0m\u001b[1;33m,\u001b[0m\u001b[0mram\u001b[0m\u001b[1;33m)\u001b[0m \u001b[1;31m# wrong way, and will give error\u001b[0m\u001b[1;33m\u001b[0m\u001b[1;33m\u001b[0m\u001b[0m\n\u001b[0m\u001b[0;32m     10\u001b[0m \u001b[1;33m\u001b[0m\u001b[0m\n\u001b[0;32m     11\u001b[0m \u001b[0mcom1\u001b[0m\u001b[1;33m=\u001b[0m\u001b[0mComputer\u001b[0m\u001b[1;33m(\u001b[0m\u001b[1;34m\"i7\"\u001b[0m\u001b[1;33m,\u001b[0m\u001b[1;36m16\u001b[0m\u001b[1;33m)\u001b[0m \u001b[1;31m# object\u001b[0m\u001b[1;33m\u001b[0m\u001b[1;33m\u001b[0m\u001b[0m\n",
      "\u001b[1;31mNameError\u001b[0m: name 'cpu' is not defined"
     ]
    }
   ],
   "source": [
    "# passing arguments to __init__\n",
    "\n",
    "class Computer:\n",
    "    def __init__(self,cpu,ram): # cpu,ram are arguments\n",
    "        self.cpu=cpu\n",
    "        self.ram=ram\n",
    "        \n",
    "    def config(self):\n",
    "        print(\"Config is: \",cpu,ram) # wrong way, and will give error\n",
    "\n",
    "com1=Computer(\"i7\",16) # object\n",
    "com2=Computer(\"Ryzen 5\",8)\n",
    "\n",
    "com1.config()\n",
    "com2.config()"
   ]
  },
  {
   "cell_type": "markdown",
   "id": "82482fc6",
   "metadata": {},
   "source": [
    "##### Expanation:\n",
    "\n",
    "The thing is, cpu is not a local variable; cpu belongs to object.\n",
    "\n",
    "To refer to object we have to use self.cpu and self.ram\n",
    "\n",
    "And this is idea behind passing self so that we use it to fetch value."
   ]
  },
  {
   "cell_type": "markdown",
   "id": "4126ea35",
   "metadata": {},
   "source": [
    "# CONSTRUCTOR AND SELF"
   ]
  },
  {
   "cell_type": "markdown",
   "id": "c6b1e54f",
   "metadata": {},
   "source": [
    "A constructor is a special type of method (function) which is used to initialize the instance members of the class.\n",
    "\n",
    "In C++ or Java, the constructor has the same name as its class, but it treats constructor differently in Python. It is used to create an object."
   ]
  },
  {
   "cell_type": "markdown",
   "id": "e18ae1f9",
   "metadata": {},
   "source": [
    "Every time you create an object it is allocated to new space in heap memory."
   ]
  },
  {
   "cell_type": "code",
   "execution_count": 7,
   "id": "c1e48b5b",
   "metadata": {},
   "outputs": [
    {
     "name": "stdout",
     "output_type": "stream",
     "text": [
      "3093190870928\n",
      "3093190870688\n"
     ]
    }
   ],
   "source": [
    "class Computer:\n",
    "    pass\n",
    "\n",
    "c1=Computer() # this is constructor\n",
    "c2=Computer()\n",
    "\n",
    "print(id(c1)) # every object will take some space in memory\n",
    "print(id(c2))"
   ]
  },
  {
   "cell_type": "markdown",
   "id": "85c428ac",
   "metadata": {},
   "source": [
    "Size of object depends on no.of variables and size.\n",
    "\n",
    "Constructor allocates size to object."
   ]
  },
  {
   "cell_type": "code",
   "execution_count": 6,
   "id": "f561ebef",
   "metadata": {},
   "outputs": [
    {
     "name": "stdout",
     "output_type": "stream",
     "text": [
      "Python\n",
      "Python\n"
     ]
    }
   ],
   "source": [
    "class Computer:\n",
    "    def __init__(self):\n",
    "        self.name=\"Python\"\n",
    "        self.age=78\n",
    "\n",
    "c1=Computer()\n",
    "c2=Computer()\n",
    "\n",
    "print(c1.name)\n",
    "print(c2.name)"
   ]
  },
  {
   "cell_type": "markdown",
   "id": "3bf1a4bb",
   "metadata": {},
   "source": [
    "They are printing \"Python\" because moment we create object both will have same value because that is what by default they are getting."
   ]
  },
  {
   "cell_type": "code",
   "execution_count": 9,
   "id": "b7407279",
   "metadata": {},
   "outputs": [
    {
     "name": "stdout",
     "output_type": "stream",
     "text": [
      "Java\n",
      "Python\n"
     ]
    }
   ],
   "source": [
    "\n",
    "class Computer:\n",
    "    def __init__(self):\n",
    "        self.name=\"Python\"\n",
    "        self.age=78\n",
    "\n",
    "c1=Computer()\n",
    "c2=Computer()\n",
    "\n",
    "c1.name=\"Java\"\n",
    "c1.age=12\n",
    "\n",
    "print(c1.name)\n",
    "print(c2.name)"
   ]
  },
  {
   "cell_type": "markdown",
   "id": "69ae3437",
   "metadata": {},
   "source": [
    "## Types of constructor"
   ]
  },
  {
   "cell_type": "markdown",
   "id": "567814bc",
   "metadata": {},
   "source": [
    "Constructors can be of two types.\n",
    "\n",
    "###### (1) Parameterized Constructor\n",
    "\n",
    "###### (2) Non-parameterized Constructor\n",
    "\n",
    "Constructor definition is executed when we create the object of this class. \n",
    "\n",
    "Constructors also verify that there are enough resources for the object to perform any start-up task."
   ]
  },
  {
   "cell_type": "markdown",
   "id": "e820445c",
   "metadata": {},
   "source": [
    "### Creating the constructor in python\n",
    "\n",
    "In Python, the method the _ _init_ _() simulates the constructor of the class. This method is called when the class is instantiated. It accepts the self-keyword as a first argument which allows accessing the attributes or method of the class.\n",
    "\n",
    "We can pass any number of arguments at the time of creating the class object, depending upon the __init__() definition. It is mostly used to initialize the class attributes. Every class must have a constructor, even if it simply relies on the default constructor.\n",
    "\n",
    "Consider the following example to initialize the Employee class attributes."
   ]
  },
  {
   "cell_type": "code",
   "execution_count": 41,
   "id": "b517e587",
   "metadata": {},
   "outputs": [
    {
     "name": "stdout",
     "output_type": "stream",
     "text": [
      "ID: 101 \n",
      "Name: John\n",
      "ID: 102 \n",
      "Name: David\n"
     ]
    }
   ],
   "source": [
    "class Employee:  \n",
    "    def __init__(self, name, id):  \n",
    "        self.id = id  \n",
    "        self.name = name  \n",
    "  \n",
    "    def display(self):  \n",
    "        print(\"ID: %d \\nName: %s\" % (self.id, self.name))  \n",
    "  \n",
    "  \n",
    "emp1 = Employee(\"John\", 101)  \n",
    "emp2 = Employee(\"David\", 102)  \n",
    "  \n",
    "# accessing display() method to print employee 1 information  \n",
    "  \n",
    "emp1.display()  \n",
    "  \n",
    "# accessing display() method to print employee 2 information  \n",
    "emp2.display()  "
   ]
  },
  {
   "cell_type": "markdown",
   "id": "a3e633e2",
   "metadata": {},
   "source": [
    "#### Counting the number of objects of a class\n",
    "\n",
    "The constructor is called automatically when we create the object of the class. Consider the following example:"
   ]
  },
  {
   "cell_type": "code",
   "execution_count": 42,
   "id": "64ae1ef0",
   "metadata": {},
   "outputs": [
    {
     "name": "stdout",
     "output_type": "stream",
     "text": [
      "The number of students: 3\n"
     ]
    }
   ],
   "source": [
    "class Student:    \n",
    "    count = 0    \n",
    "    def __init__(self):    \n",
    "        Student.count = Student.count + 1    \n",
    "s1=Student()    \n",
    "s2=Student()    \n",
    "s3=Student()    \n",
    "print(\"The number of students:\",Student.count)    "
   ]
  },
  {
   "cell_type": "markdown",
   "id": "5a708f0d",
   "metadata": {},
   "source": [
    "### Python Non-Parameterized Constructor\n",
    "\n",
    "The non-parameterized constructor uses when we do not want to manipulate the value or the constructor that has only self as an argument. Consider the following example:"
   ]
  },
  {
   "cell_type": "code",
   "execution_count": 43,
   "id": "0c8f6e74",
   "metadata": {},
   "outputs": [
    {
     "name": "stdout",
     "output_type": "stream",
     "text": [
      "This is non parametrized constructor\n",
      "Hello John\n"
     ]
    }
   ],
   "source": [
    "class Student:  \n",
    "    # Constructor - non parameterized  \n",
    "    def __init__(self):  \n",
    "        print(\"This is non parametrized constructor\")  \n",
    "    def show(self,name):  \n",
    "        print(\"Hello\",name)  \n",
    "student = Student()  \n",
    "student.show(\"John\")     "
   ]
  },
  {
   "cell_type": "markdown",
   "id": "af9342e8",
   "metadata": {},
   "source": [
    "### Python Parameterized Constructor\n",
    "\n",
    "The parameterized constructor has multiple parameters along with the self. Consider the following example:"
   ]
  },
  {
   "cell_type": "code",
   "execution_count": 44,
   "id": "a806d509",
   "metadata": {},
   "outputs": [
    {
     "name": "stdout",
     "output_type": "stream",
     "text": [
      "This is parametrized constructor\n",
      "Hello John\n"
     ]
    }
   ],
   "source": [
    "class Student:  \n",
    "    # Constructor - parameterized  \n",
    "    def __init__(self, name):  \n",
    "        print(\"This is parametrized constructor\")  \n",
    "        self.name = name  \n",
    "    def show(self):  \n",
    "        print(\"Hello\",self.name)  \n",
    "student = Student(\"John\")  \n",
    "student.show()    "
   ]
  },
  {
   "cell_type": "markdown",
   "id": "f3ea1f21",
   "metadata": {},
   "source": [
    "### Python Default Constructor\n",
    "\n",
    "When we do not include the constructor in the class or forget to declare it, then that becomes the default constructor. It does not perform any task but initializes the objects. Consider the following example:"
   ]
  },
  {
   "cell_type": "code",
   "execution_count": 45,
   "id": "88022144",
   "metadata": {},
   "outputs": [
    {
     "name": "stdout",
     "output_type": "stream",
     "text": [
      "101 Joseph\n"
     ]
    }
   ],
   "source": [
    "class Student:  \n",
    "    roll_num = 101  \n",
    "    name = \"Joseph\"  \n",
    "  \n",
    "    def display(self):  \n",
    "        print(self.roll_num,self.name)  \n",
    "  \n",
    "st = Student()  \n",
    "st.display()  "
   ]
  },
  {
   "cell_type": "markdown",
   "id": "d7b7ff69",
   "metadata": {},
   "source": [
    "#### More than One Constructor in Single class\n",
    "\n",
    "Let's have a look at another scenario, what happen if we declare the two same constructors in the class."
   ]
  },
  {
   "cell_type": "code",
   "execution_count": 46,
   "id": "44101084",
   "metadata": {},
   "outputs": [
    {
     "name": "stdout",
     "output_type": "stream",
     "text": [
      "The second contructor\n"
     ]
    }
   ],
   "source": [
    "class Student:  \n",
    "    def __init__(self):  \n",
    "        print(\"The First Constructor\")  \n",
    "    def __init__(self):  \n",
    "        print(\"The second contructor\")  \n",
    "  \n",
    "st = Student()  "
   ]
  },
  {
   "cell_type": "markdown",
   "id": "5f43e859",
   "metadata": {},
   "source": [
    "In the above code, the object st called the second constructor whereas both have the same configuration. The first method is not accessible by the st object. Internally, the object of the class will always call the last constructor if the class has multiple constructors."
   ]
  },
  {
   "cell_type": "markdown",
   "id": "225532e4",
   "metadata": {},
   "source": [
    "### Note:\n",
    "\n",
    "The constructor overloading is not allowed in Python."
   ]
  },
  {
   "cell_type": "markdown",
   "id": "adc0cbc0",
   "metadata": {},
   "source": [
    "### Why self ?"
   ]
  },
  {
   "cell_type": "code",
   "execution_count": 47,
   "id": "550ed509",
   "metadata": {},
   "outputs": [
    {
     "name": "stdout",
     "output_type": "stream",
     "text": [
      "Java\n",
      "Python\n"
     ]
    }
   ],
   "source": [
    "\n",
    "class Computer:\n",
    "    def __init__(self):\n",
    "        self.name=\"Python\"\n",
    "        self.age=78\n",
    "        \n",
    "    def update(self):\n",
    "        self.age=99\n",
    "\n",
    "c1=Computer()\n",
    "c2=Computer()\n",
    "\n",
    "c1.name=\"Java\"\n",
    "\n",
    "c1.update()\n",
    "\n",
    "print(c1.name)\n",
    "print(c2.name)"
   ]
  },
  {
   "cell_type": "markdown",
   "id": "d0b9d63b",
   "metadata": {},
   "source": [
    "##### Explanation for self:\n",
    "\n",
    "We have called update() but we are not mentioning which object we are talking about.\n",
    "\n",
    "When we are calling update(), we have not mentioned that is it c1 or c2 in bracket; we are not passing anything in update here.\n",
    "\n",
    "So, self is apointer or is directing to c1 or c2 based on what are we calling. if we are saying c1.update() then it is passing c1 in bracket that is self will assign to c1.\n",
    "\n",
    "If we have 10 object and we want to refer to one object, we can use self. It is current instance we can say."
   ]
  },
  {
   "cell_type": "markdown",
   "id": "c7afa3db",
   "metadata": {},
   "source": [
    "### Read more about self here:\n",
    "\n",
    "https://www.programiz.com/article/python-self-why"
   ]
  },
  {
   "cell_type": "code",
   "execution_count": 48,
   "id": "c12c9249",
   "metadata": {},
   "outputs": [
    {
     "name": "stdout",
     "output_type": "stream",
     "text": [
      "They are same\n",
      "Python 78\n",
      "Python 78\n"
     ]
    }
   ],
   "source": [
    "# lets compare two objects\n",
    "\n",
    "class Computer:\n",
    "    def __init__(self):\n",
    "        self.name=\"Python\"\n",
    "        self.age=78\n",
    "        \n",
    "    def compare(self,other):\n",
    "        if self.age==other.age:\n",
    "            return True\n",
    "        else:\n",
    "            return False\n",
    "\n",
    "c1=Computer()\n",
    "c2=Computer()\n",
    "\n",
    "if c1.compare(c2):\n",
    "    print(\"They are same\")\n",
    "else:\n",
    "    print(\"They are different\")\n",
    "\n",
    "print(c1.name,c1.age)\n",
    "print(c2.name,c2.age)"
   ]
  },
  {
   "cell_type": "code",
   "execution_count": 49,
   "id": "32c34b6a",
   "metadata": {},
   "outputs": [
    {
     "name": "stdout",
     "output_type": "stream",
     "text": [
      "They are different\n",
      "Python 69\n",
      "Python 78\n"
     ]
    }
   ],
   "source": [
    "# lets compare two objects\n",
    "\n",
    "class Computer:\n",
    "    def __init__(self):\n",
    "        self.name=\"Python\"\n",
    "        self.age=78\n",
    "        \n",
    "    def compare(self,other): # slef is c1 and other is c2\n",
    "        if self.age==other.age:\n",
    "            return True\n",
    "        else:\n",
    "            return False\n",
    "\n",
    "c1=Computer()\n",
    "c1.age=69\n",
    "c2=Computer()\n",
    "\n",
    "if c1.compare(c2):\n",
    "    print(\"They are same\")\n",
    "else:\n",
    "    print(\"They are different\")\n",
    "\n",
    "print(c1.name,c1.age)\n",
    "print(c2.name,c2.age)"
   ]
  },
  {
   "cell_type": "markdown",
   "id": "4091addb",
   "metadata": {},
   "source": [
    "# TYPES OF VARIABLES IN OOPs"
   ]
  },
  {
   "cell_type": "markdown",
   "id": "edd19eff",
   "metadata": {},
   "source": [
    "###### (1) Class variable:\n",
    "\n",
    "If we define variable outside _ _init_ _ and inside class is called class varaible. Also called as static variable.\n",
    "\n",
    "###### (2) Instance variable:\n",
    "\n",
    "If we declare variable inside _ _init_ _ is called instance variable."
   ]
  },
  {
   "cell_type": "code",
   "execution_count": 63,
   "id": "525fa7cc",
   "metadata": {},
   "outputs": [
    {
     "name": "stdout",
     "output_type": "stream",
     "text": [
      "BMW 9\n",
      "BMW 9\n"
     ]
    }
   ],
   "source": [
    "class Car:\n",
    "    def __init__(self):\n",
    "        self.mil=9\n",
    "        self.com=\"BMW\"\n",
    "        \n",
    "c1=Car()\n",
    "c2=Car()\n",
    "\n",
    "print(c1.com,c1.mil)\n",
    "print(c2.com,c2.mil)"
   ]
  },
  {
   "cell_type": "markdown",
   "id": "beb2fb7e",
   "metadata": {},
   "source": [
    "Instance variables are different for different objects. If we change one object it will not affect other:"
   ]
  },
  {
   "cell_type": "code",
   "execution_count": 64,
   "id": "dad4d563",
   "metadata": {},
   "outputs": [
    {
     "name": "stdout",
     "output_type": "stream",
     "text": [
      "BMW 12\n",
      "BMW 9\n"
     ]
    }
   ],
   "source": [
    "class Car:\n",
    "    def __init__(self):\n",
    "        self.mil=9\n",
    "        self.com=\"BMW\"\n",
    "        \n",
    "c1=Car()\n",
    "c2=Car()\n",
    "\n",
    "c1.mil=12\n",
    "\n",
    "print(c1.com,c1.mil)\n",
    "print(c2.com,c2.mil)"
   ]
  },
  {
   "cell_type": "markdown",
   "id": "b4335a05",
   "metadata": {},
   "source": [
    "What if we want avariable which will change it will affect all other object.\n",
    "\n",
    "Example: By default car have four wheels. in future it may have 5 wheels.\n",
    "\n",
    "If we talk about com,mil it specific to object but wheel is common to all object. So, every object can share same value of it."
   ]
  },
  {
   "cell_type": "code",
   "execution_count": 65,
   "id": "4793501e",
   "metadata": {},
   "outputs": [
    {
     "name": "stdout",
     "output_type": "stream",
     "text": [
      "BMW 9 4\n",
      "BMW 9 4\n"
     ]
    }
   ],
   "source": [
    "class Car:\n",
    "    wheel=4 # declared outside __init__\n",
    "    def __init__(self):\n",
    "        self.mil=9\n",
    "        self.com=\"BMW\"\n",
    "        \n",
    "c1=Car()\n",
    "c2=Car()\n",
    "\n",
    "print(c1.com,c1.mil,c1.wheel)\n",
    "print(c2.com,c2.mil,c2.wheel)"
   ]
  },
  {
   "cell_type": "markdown",
   "id": "f21c2dd2",
   "metadata": {},
   "source": [
    "In memory, we have different namespace.\n",
    "\n",
    "Namespace is an area where we create and store object/variable.\n",
    "\n",
    "###### (1) class namespace:\n",
    "\n",
    "Where we store class variable.\n",
    "\n",
    "###### (2) instance namespce:\n",
    "\n",
    "Where we create instance variable."
   ]
  },
  {
   "cell_type": "code",
   "execution_count": 66,
   "id": "adc1038c",
   "metadata": {},
   "outputs": [
    {
     "name": "stdout",
     "output_type": "stream",
     "text": [
      "BMW 9 4\n",
      "BMW 9 4\n"
     ]
    }
   ],
   "source": [
    "class Car:\n",
    "    wheel=4 # belongs to class namespce\n",
    "    def __init__(self):\n",
    "        self.mil=9 # belongs to instance namespce\n",
    "        self.com=\"BMW\" # # belongs to instance namespce\n",
    "        \n",
    "c1=Car()\n",
    "c2=Car()\n",
    "\n",
    "print(c1.com,c1.mil,c1.wheel)\n",
    "print(c2.com,c2.mil,c2.wheel)"
   ]
  },
  {
   "cell_type": "code",
   "execution_count": 67,
   "id": "7689741f",
   "metadata": {},
   "outputs": [
    {
     "name": "stdout",
     "output_type": "stream",
     "text": [
      "BMW 9 5\n",
      "BMW 9 5\n"
     ]
    }
   ],
   "source": [
    "class Car:\n",
    "    wheel=4 # belongs to class namespce\n",
    "    def __init__(self):\n",
    "        self.mil=9 # belongs to instance namespce\n",
    "        self.com=\"BMW\" # # belongs to instance namespce\n",
    "        \n",
    "c1=Car()\n",
    "c2=Car()\n",
    "\n",
    "Car.wheel=5\n",
    "\n",
    "print(c1.com,c1.mil,c1.wheel)\n",
    "print(c2.com,c2.mil,c2.wheel)"
   ]
  },
  {
   "cell_type": "markdown",
   "id": "ccef798c",
   "metadata": {},
   "source": [
    "# TYPES OF METHOD IN OOPs\n",
    "\n",
    "(1) Instance method\n",
    "\n",
    "(2) Class method\n",
    "\n",
    "(3) Static method"
   ]
  },
  {
   "cell_type": "code",
   "execution_count": 68,
   "id": "031aee9a",
   "metadata": {},
   "outputs": [
    {
     "name": "stdout",
     "output_type": "stream",
     "text": [
      "2.0\n",
      "5.0\n"
     ]
    }
   ],
   "source": [
    "# instance method\n",
    "\n",
    "class Student:\n",
    "    \n",
    "    school=\"Youtube\"\n",
    "    \n",
    "    def __init__(self,m1,m2,m3):\n",
    "        self.m1=m1\n",
    "        self.m2=m2\n",
    "        self.m3=m3\n",
    "    \n",
    "    def avg(self): # instance method because we are passing self \n",
    "        return (self.m1+self.m2+self.m3)/3\n",
    "        \n",
    "s1=Student(1,2,3)\n",
    "s2=Student(4,5,6)\n",
    "\n",
    "print(s1.avg())\n",
    "print(s2.avg())"
   ]
  },
  {
   "cell_type": "markdown",
   "id": "81fec79e",
   "metadata": {},
   "source": [
    "In instance method we have two different types:\n",
    "\n",
    "###### (1) Accessor method:\n",
    "\n",
    "if we want to just fetch the value of instance variable, we will be using accessor\n",
    "\n",
    "###### (2) Mutator method:\n",
    "\n",
    "if we want to modify the value, we will be using mutator"
   ]
  },
  {
   "cell_type": "code",
   "execution_count": 69,
   "id": "10b56a50",
   "metadata": {},
   "outputs": [
    {
     "name": "stdout",
     "output_type": "stream",
     "text": [
      "2.0\n",
      "5.0\n"
     ]
    }
   ],
   "source": [
    "class Student:\n",
    "    \n",
    "    school=\"Youtube\"\n",
    "    \n",
    "    def __init__(self,m1,m2,m3):\n",
    "        self.m1=m1\n",
    "        self.m2=m2\n",
    "        self.m3=m3\n",
    "    \n",
    "    def avg(self): # instance method because we are passing self \n",
    "        return (self.m1+self.m2+self.m3)/3\n",
    "    \n",
    "    def get_m1(self): # accessor or getter\n",
    "        return self.m1\n",
    "    \n",
    "    def set_m1(self,value): # mutator or setter\n",
    "        self.m1=value\n",
    "        \n",
    "s1=Student(1,2,3)\n",
    "s2=Student(4,5,6)\n",
    "\n",
    "print(s1.avg())\n",
    "print(s2.avg())"
   ]
  },
  {
   "cell_type": "code",
   "execution_count": 70,
   "id": "f3ead22e",
   "metadata": {},
   "outputs": [
    {
     "name": "stdout",
     "output_type": "stream",
     "text": [
      "\n",
      "5.0\n"
     ]
    }
   ],
   "source": [
    "# class method\n",
    "\n",
    "class Student:\n",
    "    \n",
    "    school=\"Youtube\" # class varaible\n",
    "    \n",
    "    def __init__(self,m1,m2,m3):\n",
    "        self.m1=m1\n",
    "        self.m2=m2\n",
    "        self.m3=m3\n",
    "    \n",
    "    def avg(self): # instance method because we are passing self \n",
    "        return (self.m1+self.m2+self.m3)/3\n",
    "    \n",
    "    def info(cls):\n",
    "        cls.school\n",
    "    \n",
    "        \n",
    "s1=Student(1,2,3)\n",
    "s2=Student(4,5,6)\n",
    "\n",
    "print()\n",
    "print(s2.avg())"
   ]
  },
  {
   "cell_type": "code",
   "execution_count": null,
   "id": "6073ad14",
   "metadata": {},
   "outputs": [],
   "source": []
  },
  {
   "cell_type": "code",
   "execution_count": null,
   "id": "72d76ac7",
   "metadata": {},
   "outputs": [],
   "source": []
  },
  {
   "cell_type": "code",
   "execution_count": null,
   "id": "842f8208",
   "metadata": {},
   "outputs": [],
   "source": []
  },
  {
   "cell_type": "code",
   "execution_count": null,
   "id": "c5557e23",
   "metadata": {},
   "outputs": [],
   "source": []
  },
  {
   "cell_type": "code",
   "execution_count": null,
   "id": "25a3b0f0",
   "metadata": {},
   "outputs": [],
   "source": []
  },
  {
   "cell_type": "markdown",
   "id": "b8c9de75",
   "metadata": {},
   "source": [
    "# INNER CLASS\n",
    "\n",
    "Class inside a class called as inner class."
   ]
  },
  {
   "cell_type": "code",
   "execution_count": 71,
   "id": "52da4d79",
   "metadata": {},
   "outputs": [
    {
     "name": "stdout",
     "output_type": "stream",
     "text": [
      "Rita 456\n"
     ]
    }
   ],
   "source": [
    "class Student:\n",
    "    def __init__(self,name,roll):\n",
    "        self.name=name\n",
    "        self.roll=roll\n",
    "        \n",
    "    def show(self):\n",
    "        print(self.name,self.roll)\n",
    "        \n",
    "s1=Student(\"Raj\",123)\n",
    "s2=Student(\"Rita\",456)\n",
    "\n",
    "s2.show()"
   ]
  },
  {
   "cell_type": "markdown",
   "id": "f86c212e",
   "metadata": {},
   "source": [
    "Here we have class student in which their details are present.\n",
    "\n",
    "As student have laptop and we are interested to print laptop details as well along with configuration.\n",
    "\n",
    "As we cannot say we are using abc comapny laptop; we also have to tell that configuration like processor, RAM.\n",
    "\n",
    "We can do that in two ways:-\n",
    "\n",
    "(1) By doing s1=Student(\"Rita\",123,\"HP\",8,\"i5\")\n",
    "\n",
    "(2) By creating a separate class for laptop or instead of creating class outside class Student, we can create class Laptop inside student.\n",
    "\n",
    "So, laptop is only used by student in this case:"
   ]
  },
  {
   "cell_type": "code",
   "execution_count": 59,
   "id": "1b91b7d8",
   "metadata": {},
   "outputs": [
    {
     "name": "stdout",
     "output_type": "stream",
     "text": [
      "Rita 456\n",
      "HP\n"
     ]
    }
   ],
   "source": [
    "class Student:\n",
    "    def __init__(self,name,roll):\n",
    "        self.name=name\n",
    "        self.roll=roll\n",
    "        \n",
    "        self.lap=self.Laptop() # creating object of inner class\n",
    "        \n",
    "    def show(self):\n",
    "        print(self.name,self.roll)\n",
    "        \n",
    "    class Laptop:\n",
    "        def __init__(self):\n",
    "            self.brand=\"HP\"\n",
    "            self.cpu=\"i5\"\n",
    "            self.ram=8\n",
    "        \n",
    "s1=Student(\"Raj\",123)\n",
    "s2=Student(\"Rita\",456)\n",
    "\n",
    "s2.show()\n",
    "\n",
    "print(s1.lap.brand) # accessing inner class variable outside"
   ]
  },
  {
   "cell_type": "markdown",
   "id": "da727caf",
   "metadata": {},
   "source": [
    "### Note:\n",
    "\n",
    "We can create object of inner class inside outer class.\n",
    "\n",
    "Or, We can create object of inner class outside outer class provided you use outer class name to call it."
   ]
  },
  {
   "cell_type": "code",
   "execution_count": 60,
   "id": "f719f06e",
   "metadata": {},
   "outputs": [
    {
     "name": "stdout",
     "output_type": "stream",
     "text": [
      "Rita 456\n",
      "<class '__main__.Student.Laptop'>\n",
      "<class '__main__.Student.Laptop'>\n",
      "1859662023264\n",
      "1859662021824\n"
     ]
    }
   ],
   "source": [
    "# inner class object creation inside outer class\n",
    "\n",
    "class Student:\n",
    "    def __init__(self,name,roll):\n",
    "        self.name=name\n",
    "        self.roll=roll\n",
    "        \n",
    "        self.lap=self.Laptop() # creating object of inner class\n",
    "        \n",
    "    def show(self):\n",
    "        print(self.name,self.roll)\n",
    "        \n",
    "    class Laptop:\n",
    "        def __init__(self):\n",
    "            self.brand=\"HP\"\n",
    "            self.cpu=\"i5\"\n",
    "            self.ram=8\n",
    "        \n",
    "s1=Student(\"Raj\",123)\n",
    "s2=Student(\"Rita\",456)\n",
    "\n",
    "s2.show()\n",
    "\n",
    "l1=s1.lap # creating another object\n",
    "l2=s2.lap\n",
    "\n",
    "print(type(l1))\n",
    "print(type(l2))\n",
    "\n",
    "print(id(l1))\n",
    "print(id(l2))"
   ]
  },
  {
   "cell_type": "code",
   "execution_count": 61,
   "id": "3255a77e",
   "metadata": {},
   "outputs": [
    {
     "name": "stdout",
     "output_type": "stream",
     "text": [
      "Rita 456\n"
     ]
    }
   ],
   "source": [
    "# inner class object creation outside outer class\n",
    "\n",
    "class Student:\n",
    "    def __init__(self,name,roll):\n",
    "        self.name=name\n",
    "        self.roll=roll\n",
    "        \n",
    "        self.lap=self.Laptop() # creating object of inner class inside class\n",
    "        \n",
    "    def show(self):\n",
    "        print(self.name,self.roll)\n",
    "        \n",
    "    class Laptop:\n",
    "        def __init__(self):\n",
    "            self.brand=\"HP\"\n",
    "            self.cpu=\"i5\"\n",
    "            self.ram=8\n",
    "        \n",
    "s1=Student(\"Raj\",123)\n",
    "s2=Student(\"Rita\",456)\n",
    "\n",
    "s2.show()\n",
    "\n",
    "lap1=Student.Laptop()  # creating object of inner class ouside the class"
   ]
  },
  {
   "cell_type": "code",
   "execution_count": 62,
   "id": "cc6da55e",
   "metadata": {},
   "outputs": [
    {
     "name": "stdout",
     "output_type": "stream",
     "text": [
      "Rita 456\n",
      "HP i5 8\n",
      "HP i5 8\n"
     ]
    }
   ],
   "source": [
    "# inner class object creation outside outer class\n",
    "\n",
    "class Student:\n",
    "    def __init__(self,name,roll):\n",
    "        self.name=name\n",
    "        self.roll=roll\n",
    "        \n",
    "        self.lap=self.Laptop() # creating object of inner class inside class\n",
    "        \n",
    "    def show(self): # method to show student info\n",
    "        print(self.name,self.roll)\n",
    "        self.lap.show() # calling show() of inner class using object creted inside the class\n",
    "        \n",
    "    class Laptop:\n",
    "        def __init__(self):\n",
    "            self.brand=\"HP\"\n",
    "            self.cpu=\"i5\"\n",
    "            self.ram=8\n",
    "            \n",
    "        def show(self): # method to show laptop info\n",
    "            print(self.brand,self.cpu,self.ram)\n",
    "        \n",
    "s1=Student(\"Raj\",123)\n",
    "s2=Student(\"Rita\",456)\n",
    "\n",
    "s2.show()\n",
    "\n",
    "lap1=Student.Laptop()  # creating object of inner class ouside the class\n",
    "\n",
    "lap1.show() # calling show() of inner class using object created outside the class"
   ]
  },
  {
   "cell_type": "code",
   "execution_count": 78,
   "id": "961b6ee4",
   "metadata": {},
   "outputs": [
    {
     "name": "stdout",
     "output_type": "stream",
     "text": [
      "a\n",
      "a\n",
      "s\n",
      "sa\n",
      "f\n",
      "fsa\n",
      "s\n",
      "sfsa\n",
      "d\n",
      "dsfsa\n",
      "f\n",
      "fdsfsa\n",
      "fdsfsa\n"
     ]
    }
   ],
   "source": [
    "s=\"asfsdf\"\n",
    "rev=\"\"\n",
    "for i in s:\n",
    "    print(i)\n",
    "    rev=i+rev\n",
    "    print(rev)\n",
    "print(rev)"
   ]
  },
  {
   "cell_type": "code",
   "execution_count": null,
   "id": "5d84806e",
   "metadata": {},
   "outputs": [],
   "source": []
  },
  {
   "cell_type": "code",
   "execution_count": null,
   "id": "ec6b0541",
   "metadata": {},
   "outputs": [],
   "source": []
  },
  {
   "cell_type": "code",
   "execution_count": null,
   "id": "12c1a67a",
   "metadata": {},
   "outputs": [],
   "source": []
  },
  {
   "cell_type": "code",
   "execution_count": null,
   "id": "4c06edae",
   "metadata": {},
   "outputs": [],
   "source": []
  },
  {
   "cell_type": "code",
   "execution_count": null,
   "id": "1fba847a",
   "metadata": {},
   "outputs": [],
   "source": []
  }
 ],
 "metadata": {
  "kernelspec": {
   "display_name": "Python 3 (ipykernel)",
   "language": "python",
   "name": "python3"
  },
  "language_info": {
   "codemirror_mode": {
    "name": "ipython",
    "version": 3
   },
   "file_extension": ".py",
   "mimetype": "text/x-python",
   "name": "python",
   "nbconvert_exporter": "python",
   "pygments_lexer": "ipython3",
   "version": "3.9.6"
  }
 },
 "nbformat": 4,
 "nbformat_minor": 5
}
