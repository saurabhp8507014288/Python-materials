{
 "cells": [
  {
   "cell_type": "markdown",
   "id": "fe1f89dd",
   "metadata": {},
   "source": [
    "## Content of Part-3\n",
    "\n",
    "Function\n",
    "\n",
    "Global keyword\n",
    "\n",
    "Recursion\n",
    "\n",
    "Lambda function\n",
    "\n",
    "filter()\n",
    "\n",
    "map()\n",
    "\n",
    "reduce()\n",
    "\n",
    "Decorators\n",
    "\n",
    "Modules"
   ]
  },
  {
   "cell_type": "markdown",
   "id": "b29bb773",
   "metadata": {},
   "source": [
    "# FUNCTION"
   ]
  },
  {
   "cell_type": "code",
   "execution_count": 13,
   "id": "45505f5e",
   "metadata": {},
   "outputs": [
    {
     "name": "stdout",
     "output_type": "stream",
     "text": [
      "hello\n",
      "Good morning\n"
     ]
    }
   ],
   "source": [
    "# function should always be declared before its call\n",
    "\n",
    "# function declaration\n",
    "\n",
    "def greet():\n",
    "    print(\"hello\")\n",
    "    print(\"Good morning\")\n",
    "    \n",
    "greet() # function call"
   ]
  },
  {
   "cell_type": "code",
   "execution_count": 14,
   "id": "8b10abf5",
   "metadata": {},
   "outputs": [
    {
     "name": "stdout",
     "output_type": "stream",
     "text": [
      "13\n"
     ]
    }
   ],
   "source": [
    "# passing arguments to the function\n",
    "\n",
    "def add(x,y): # function accepting arguments\n",
    "    c=x+y\n",
    "    print(c)\n",
    "    \n",
    "add(4,9) # passing argument"
   ]
  },
  {
   "cell_type": "code",
   "execution_count": 15,
   "id": "97bac567",
   "metadata": {},
   "outputs": [
    {
     "name": "stdout",
     "output_type": "stream",
     "text": [
      "13\n"
     ]
    }
   ],
   "source": [
    "# returning single value from function\n",
    "\n",
    "def add(x,y): # function accepting arguments\n",
    "    c=x+y\n",
    "    return c # returning value to function\n",
    "\n",
    "# function will return a value\n",
    "# so we need to collect or store that value in a variable\n",
    "result = add(4,9) # making function call storing returned value in a variable\n",
    "print(result)"
   ]
  },
  {
   "cell_type": "markdown",
   "id": "2cc86764",
   "metadata": {},
   "source": [
    "### Note: \n",
    "\n",
    "(1) In Python, we can return multiple value at a time\n",
    "\n",
    "(2) In Python, function can take another function as an argument.\n",
    "\n",
    "(3) In Python, we can also define function inside function.\n",
    "\n",
    "(4) In Python, we can return also another function as value"
   ]
  },
  {
   "cell_type": "markdown",
   "id": "150c46f1",
   "metadata": {},
   "source": [
    "# (1)\n",
    "\n",
    "#### In Python, we can return multiple value at a time"
   ]
  },
  {
   "cell_type": "code",
   "execution_count": 19,
   "id": "a8ef6f6e",
   "metadata": {
    "scrolled": true
   },
   "outputs": [
    {
     "name": "stdout",
     "output_type": "stream",
     "text": [
      "13\n",
      "-5\n"
     ]
    }
   ],
   "source": [
    "# returning multiple value from function\n",
    "\n",
    "def add(x,y): # function accepting arguments\n",
    "    c=x+y\n",
    "    d=x-y\n",
    "    return c,d # returning two value to function\n",
    "\n",
    "# function will return two value\n",
    "# so we need to collect or store that value in two variable\n",
    "result1,result2 = add(4,9) # storing two value returned by function\n",
    "print(result1)\n",
    "print(result2)"
   ]
  },
  {
   "cell_type": "markdown",
   "id": "6ea0b6bc",
   "metadata": {},
   "source": [
    "# (2)\n",
    "\n",
    "#### In Python, function can take another function as an argument."
   ]
  },
  {
   "cell_type": "code",
   "execution_count": 20,
   "id": "ab095cec",
   "metadata": {},
   "outputs": [
    {
     "name": "stdout",
     "output_type": "stream",
     "text": [
      "4\n"
     ]
    }
   ],
   "source": [
    "# Since functions are also objects, we can also pass functions as arguments to other functions:\n",
    "\n",
    "def inc(x):\n",
    "    return x + 1\n",
    "\n",
    "def operate(func, x):\n",
    "    result = func(x)\n",
    "    return result\n",
    "\n",
    "print(operate(inc, 3))"
   ]
  },
  {
   "cell_type": "markdown",
   "id": "b09364a0",
   "metadata": {},
   "source": [
    "# (3)\n",
    "\n",
    "#### In Python, we can also define function inside function"
   ]
  },
  {
   "cell_type": "code",
   "execution_count": 21,
   "id": "673deb44",
   "metadata": {},
   "outputs": [
    {
     "name": "stdout",
     "output_type": "stream",
     "text": [
      "Hello Python is awesome\n"
     ]
    }
   ],
   "source": [
    "# In Python, we can also define a function inside a function: \n",
    "\n",
    "def print_msg(message):\n",
    "    greeting = \"Hello\"\n",
    "    def printer():\n",
    "        print(greeting, message)\n",
    "\n",
    "    printer()\n",
    "\n",
    "\n",
    "print_msg(\"Python is awesome\")"
   ]
  },
  {
   "cell_type": "markdown",
   "id": "df1ee487",
   "metadata": {},
   "source": [
    "# (4)\n",
    "\n",
    "#### In Python, we can return also another function as value"
   ]
  },
  {
   "cell_type": "code",
   "execution_count": 22,
   "id": "f96098a4",
   "metadata": {},
   "outputs": [
    {
     "name": "stdout",
     "output_type": "stream",
     "text": [
      "Hello Python is awesome\n"
     ]
    }
   ],
   "source": [
    "# Functions is that they can also return a function as a value. Let's modify our previous code:\n",
    "\n",
    "def print_msg(message):\n",
    "    greeting = \"Hello\"\n",
    "    def printer():\n",
    "        print(greeting, message)\n",
    "\n",
    "    return printer\n",
    "\n",
    "func = print_msg(\"Python is awesome\")\n",
    "func()"
   ]
  },
  {
   "cell_type": "markdown",
   "id": "377f787d",
   "metadata": {},
   "source": [
    "#### Closure function\n",
    "\n",
    "Do you notice something weird here? Even though print_msg() function is done executing, the returned inner printer() function can still access the message and greeting variables. Such a function is called a closure function.\n",
    "\n",
    "A closure is simply an inner function that remembers the values and variables in its enclosing scope even if the outer function is done executing.\n",
    "\n",
    "Python Decorators make an extensive use of closures."
   ]
  },
  {
   "cell_type": "markdown",
   "id": "5c15aacc",
   "metadata": {},
   "source": [
    "## Function arguments"
   ]
  },
  {
   "cell_type": "code",
   "execution_count": null,
   "id": "a71f6eb7",
   "metadata": {},
   "outputs": [],
   "source": [
    "def update(x):\n",
    "    x=8\n",
    "    print(\"x \",x)\n",
    "\n",
    "a=10\n",
    "update(a)\n",
    "print(\"a \",a)"
   ]
  },
  {
   "cell_type": "markdown",
   "id": "b908ac90",
   "metadata": {},
   "source": [
    "### In general,\n",
    "\n",
    "When we pass value x to a function and function accepting argument is y:-\n",
    "\n",
    "Then in call by value, if we change the value of y; it will not affect x. Both x and y will have two different address in call by value.\n",
    "\n",
    "But in call by reference, if we passing address of x not value and the moment we change the value of y it will affect x as well. Both x and y will have same address.\n",
    "\n",
    "\n",
    "\n",
    "When we pass value to function and then we change value in that function then that change will not reflect in main() function.\n",
    "\n",
    "But in passing address, that change will reflect in main() function"
   ]
  },
  {
   "cell_type": "markdown",
   "id": "aec81cb0",
   "metadata": {},
   "source": [
    "### Note:\n",
    "\n",
    "In python, we don't have concept of pass by value and pass by reference."
   ]
  },
  {
   "cell_type": "code",
   "execution_count": null,
   "id": "b7cf8b44",
   "metadata": {},
   "outputs": [],
   "source": [
    "# example\n",
    "\n",
    "def update(x):\n",
    "    print(id(x))\n",
    "    \n",
    "    x=8 # changing value inside function\n",
    "    print(\"x = \",x)\n",
    "\n",
    "a=10\n",
    "print(id(a))\n",
    "update(a)\n",
    "print(\"a = \",a)"
   ]
  },
  {
   "cell_type": "markdown",
   "id": "223211f7",
   "metadata": {},
   "source": [
    "In above result we got same id that means it is not pass by value\n",
    "\n",
    "### Remark:\n",
    "\n",
    "a,x refers to same object that is it is not pass by value here in Python"
   ]
  },
  {
   "cell_type": "code",
   "execution_count": null,
   "id": "b07d03e8",
   "metadata": {},
   "outputs": [],
   "source": [
    "# example\n",
    "\n",
    "def update(x):\n",
    "    print(id(x))\n",
    "    \n",
    "    x=8 # changing value inside function\n",
    "    \n",
    "    print(id(x)) # id after changing value\n",
    "    print(\"x = \",x)\n",
    "\n",
    "a=10\n",
    "print(id(a))\n",
    "update(a)\n",
    "print(\"a = \",a)"
   ]
  },
  {
   "cell_type": "markdown",
   "id": "8b733121",
   "metadata": {},
   "source": [
    "### Overall result\n",
    "\n",
    "In python, whenever you pass a value or whenever you call function by passing value, they will share same id that is variable which have been passed and variable which we accessing get here.\n",
    "\n",
    "But the moment when you change value it will change address.\n",
    "\n",
    "Integer, String they are immutable thats why the moment we change value x=8 it will change the address."
   ]
  },
  {
   "cell_type": "markdown",
   "id": "975ba15f",
   "metadata": {},
   "source": [
    "But what if we use something which are mutable like list:-"
   ]
  },
  {
   "cell_type": "code",
   "execution_count": null,
   "id": "6f1fa9ac",
   "metadata": {},
   "outputs": [],
   "source": [
    "# if muttable\n",
    "\n",
    "def update(lst):\n",
    "    print(id(lst))\n",
    "    \n",
    "    lst[1]=99\n",
    "    print(id(lst))\n",
    "    print(\"list: \",lst)\n",
    "    \n",
    "lst=[1,2,3]\n",
    "print(id(lst))\n",
    "update(lst)\n",
    "print(\"list: \",lst)"
   ]
  },
  {
   "cell_type": "markdown",
   "id": "0063a3b3",
   "metadata": {},
   "source": [
    "### Types of arguments\n",
    "\n",
    "There are two types of arguments:\n",
    "\n",
    "(1) Actual arguments\n",
    "\n",
    "(2) Formal arguments"
   ]
  },
  {
   "cell_type": "code",
   "execution_count": null,
   "id": "9a51cac9",
   "metadata": {},
   "outputs": [],
   "source": [
    "# actual and formal arguments\n",
    "\n",
    "def add(a,b): # formal argument (when defining)\n",
    "    c=a+b\n",
    "    print(c)\n",
    "\n",
    "add(4,6) # actual argument (when passing)"
   ]
  },
  {
   "cell_type": "markdown",
   "id": "2fe10321",
   "metadata": {},
   "source": [
    "###### Actual arguments is of 4 types:-\n",
    "\n",
    "(1) Position\n",
    "\n",
    "(2) Keyword\n",
    "\n",
    "(3) default\n",
    "\n",
    "(4) Variable length"
   ]
  },
  {
   "cell_type": "code",
   "execution_count": null,
   "id": "537d142f",
   "metadata": {},
   "outputs": [],
   "source": [
    "# position argument\n",
    "\n",
    "def person(name,age):\n",
    "    print(name)\n",
    "    print(age)\n",
    "\n",
    "person(\"Python\",70) # postion argument"
   ]
  },
  {
   "cell_type": "code",
   "execution_count": null,
   "id": "baa12bb0",
   "metadata": {},
   "outputs": [],
   "source": [
    "# keyword argument\n",
    "    # if we dont sure about the sequence of parameter\n",
    "\n",
    "def person(name,age):\n",
    "    print(name)\n",
    "    print(age)\n",
    "\n",
    "person(age=70,name=\"Python\") # keyword argument\n",
    "\n",
    "# if we do pass by person(70,\"python\")\n",
    "    # then this will give an error"
   ]
  },
  {
   "cell_type": "code",
   "execution_count": null,
   "id": "cda3b3af",
   "metadata": {},
   "outputs": [],
   "source": [
    "# default argument\n",
    "\n",
    "def person(name,age=99): # default argument\n",
    "    print(name)\n",
    "    print(age)\n",
    "\n",
    "person(\"Python\") # if we dont pass second value it will take default value\n",
    "                   \n",
    "person(\"Java\",55)  # but if we pass the second value then it will over write default value"
   ]
  },
  {
   "cell_type": "code",
   "execution_count": null,
   "id": "741dd3ee",
   "metadata": {},
   "outputs": [],
   "source": [
    "# variable length argument\n",
    "\n",
    "def add(a, *b):\n",
    "    c=a+b\n",
    "    print(c)\n",
    "    \n",
    "add(1,2,3,4,5) # passing mutiple arguments\n",
    "\n",
    "# look at below cell for explanation"
   ]
  },
  {
   "cell_type": "markdown",
   "id": "c57201da",
   "metadata": {},
   "source": [
    "###### What happened above:-\n",
    "\n",
    "(1) variable a will have a fixed or confirmed value that is 1 (here)\n",
    "\n",
    "(2) *b means it can have multiple value\n",
    "\n",
    "So, 1 is assigned to a and (2,3,4,5) is assigned to b as a tuple\n",
    "\n",
    "\n",
    "Hence, we are getting error because we are adding integer with tuple"
   ]
  },
  {
   "cell_type": "code",
   "execution_count": null,
   "id": "3ce0b2d0",
   "metadata": {},
   "outputs": [],
   "source": [
    "# variable length argument\n",
    "\n",
    "def add(a, *b):\n",
    "    c=a\n",
    "    for i in b: # handling tuple values\n",
    "        c=c+i\n",
    "    print(c)\n",
    "    \n",
    "add(1,2,3,4,5) # passing mutiple arguments"
   ]
  },
  {
   "cell_type": "code",
   "execution_count": null,
   "id": "b7693180",
   "metadata": {},
   "outputs": [],
   "source": [
    "# lets observe below code\n",
    "\n",
    "def person(name, *data):\n",
    "    print(name)\n",
    "    print(data)\n",
    "\n",
    "person(\"ram\",28,\"Muz\",12345)"
   ]
  },
  {
   "cell_type": "markdown",
   "id": "bc9253a5",
   "metadata": {},
   "source": [
    "###### Consider:\n",
    "\n",
    "Consider a situation when user is passing name, age,mobile, addres etc...\n",
    "\n",
    "In above cell, if we print it individually and we are also dont know what is user passing that is 28 is age or mobile or anything else.\n",
    "\n",
    "So, we we have to convey our message which is as below:"
   ]
  },
  {
   "cell_type": "code",
   "execution_count": null,
   "id": "6ffb55eb",
   "metadata": {},
   "outputs": [],
   "source": [
    "# keworded variable length argument\n",
    "\n",
    "def person(name, **data):\n",
    "    print(name)\n",
    "    print(data)\n",
    "\n",
    "person(\"ram\",age=28,city=\"Muz\",pin=12345)\n",
    "# look at below cell for explanation"
   ]
  },
  {
   "cell_type": "markdown",
   "id": "bf0d9ed7",
   "metadata": {},
   "source": [
    "###### What happend above:\n",
    "\n",
    "When we accept mutiple arguments with the help of keyword then it will be stored as dictionary datatype in key value pair."
   ]
  },
  {
   "cell_type": "markdown",
   "id": "b3214442",
   "metadata": {},
   "source": [
    "### Remark:\n",
    "\n",
    "When we say ** that is **data, we are passing mutiple argument with the help of keyword\n",
    "\n",
    "single * ( that is *data) will give error in this case"
   ]
  },
  {
   "cell_type": "code",
   "execution_count": null,
   "id": "036e865b",
   "metadata": {},
   "outputs": [],
   "source": [
    "# keworded variable length argument\n",
    "\n",
    "def person(name, **data):\n",
    "    print(name)\n",
    "    for i,j in data.items():\n",
    "        print(i,j)\n",
    "\n",
    "person(\"ram\",age=28,city=\"Muz\",pin=12345)\n"
   ]
  },
  {
   "cell_type": "markdown",
   "id": "3f05c2ca",
   "metadata": {},
   "source": [
    "# GLOBAL KEYWORD"
   ]
  },
  {
   "cell_type": "code",
   "execution_count": null,
   "id": "76324c5a",
   "metadata": {},
   "outputs": [],
   "source": [
    "a=10 # global variable\n",
    "\n",
    "def some():\n",
    "    a=15 # local variable\n",
    "    print(a)\n",
    "\n",
    "some()\n",
    "print(\"Outside:\",a)"
   ]
  },
  {
   "cell_type": "markdown",
   "id": "843083ea",
   "metadata": {},
   "source": [
    "### Note:\n",
    "\n",
    "Inside function preference is always given to local variable"
   ]
  },
  {
   "cell_type": "code",
   "execution_count": null,
   "id": "97c9abb6",
   "metadata": {},
   "outputs": [],
   "source": [
    "# if we dont have variable inside function\n",
    "\n",
    "a=10 # global variable\n",
    "\n",
    "def some():\n",
    "\n",
    "    print(\"Inside: \",a)\n",
    "\n",
    "some()\n",
    "print(\"Outside:\",a)\n",
    "\n",
    "# hence we can access global variable inside function as well"
   ]
  },
  {
   "cell_type": "code",
   "execution_count": null,
   "id": "80b0909d",
   "metadata": {},
   "outputs": [],
   "source": [
    "# if we dont have variable inside function\n",
    "\n",
    "a=10 # global variable\n",
    "print(id(a))\n",
    "def some():\n",
    "    global a # explictly specifying a is global variable inside function\n",
    "    a=15 # moment we re-assign, it will create a new memory\n",
    "    print(id(a))\n",
    "    print(\"Inside: \",a)\n",
    "    # we dont have local variable here\n",
    "\n",
    "some()\n",
    "print(\"Outside:\",a)"
   ]
  },
  {
   "cell_type": "markdown",
   "id": "f7010f28",
   "metadata": {},
   "source": [
    "### globals()"
   ]
  },
  {
   "cell_type": "markdown",
   "id": "11e48e08",
   "metadata": {},
   "source": [
    "###### Can we have local a and global a variable in same function\n",
    "\n",
    "Its not possible.\n",
    "\n",
    "We want to achieve global and local in same function.\n",
    "\n",
    "So, we want local variable a and also want to change global variable a\n",
    "\n",
    "For that we can use globals()"
   ]
  },
  {
   "cell_type": "code",
   "execution_count": null,
   "id": "e76576fe",
   "metadata": {},
   "outputs": [],
   "source": [
    "# if we dont have variable inside function\n",
    "\n",
    "a=10 # global variable\n",
    "print(id(a))\n",
    "def some():\n",
    "    a=9 # local variable\n",
    "    \n",
    "    x=globals()['a'] # globals return all global variable, but we want access to a\n",
    "    print(id(x)) # both id same\n",
    "    print(\"Inside: \",a)\n",
    "    globals()['a']=99 # changing global from function\n",
    "\n",
    "some()\n",
    "print(\"Outside:\",a)"
   ]
  },
  {
   "cell_type": "markdown",
   "id": "2971f719",
   "metadata": {},
   "source": [
    "### Passing to list to function"
   ]
  },
  {
   "cell_type": "code",
   "execution_count": null,
   "id": "7b5cdba3",
   "metadata": {},
   "outputs": [],
   "source": [
    "def count(lst):\n",
    "    even=0\n",
    "    odd=0\n",
    "    for i in lst:\n",
    "        if i%2==0:\n",
    "            even+=1\n",
    "        else:\n",
    "            odd+=1\n",
    "    return even,odd\n",
    "\n",
    "lst=[20,3,4,7,9,11,77]\n",
    "even,odd=count(lst)\n",
    "print(\"Even: {} and odd: {}\".format(even,odd))"
   ]
  },
  {
   "cell_type": "code",
   "execution_count": null,
   "id": "579641f4",
   "metadata": {},
   "outputs": [],
   "source": [
    "# program to print fibonacci series\n",
    "\n",
    "def fib(n):\n",
    "    a=0\n",
    "    b=1\n",
    "    if n==1:\n",
    "        print(a)\n",
    "    else:\n",
    "        print(a)\n",
    "        print(b)\n",
    "        \n",
    "        for i in range(2,n):\n",
    "            c=a+b\n",
    "            a=b\n",
    "            b=c\n",
    "            print(c)\n",
    "fib(5)"
   ]
  },
  {
   "cell_type": "code",
   "execution_count": null,
   "id": "86cfd5f0",
   "metadata": {},
   "outputs": [],
   "source": [
    "# program to print factorial of number\n",
    "\n",
    "def fact(n):\n",
    "    f=1\n",
    "    for i in range(1,n+1):\n",
    "        f=f*i\n",
    "    return f\n",
    "x=4\n",
    "result=fact(x)\n",
    "print(result)"
   ]
  },
  {
   "cell_type": "markdown",
   "id": "d3fec751",
   "metadata": {},
   "source": [
    "# RECURSION\n",
    "\n",
    "By default, we can print things using recursion only specified specified limit only."
   ]
  },
  {
   "cell_type": "code",
   "execution_count": null,
   "id": "e8015df9",
   "metadata": {},
   "outputs": [],
   "source": [
    "# checking recursion limit\n",
    "\n",
    "import sys\n",
    "print(sys.getrecursionlimit())"
   ]
  },
  {
   "cell_type": "code",
   "execution_count": null,
   "id": "42df6232",
   "metadata": {},
   "outputs": [],
   "source": [
    "# increase recursu=ion limit\n",
    "\n",
    "import sys\n",
    "\n",
    "sys.setrecursionlimit(5000)\n",
    "print(sys.getrecursionlimit())"
   ]
  },
  {
   "cell_type": "code",
   "execution_count": null,
   "id": "c5ce9d91",
   "metadata": {},
   "outputs": [],
   "source": [
    "# factorial of number using recursion\n",
    "\n",
    "def fact(n):\n",
    "    if n==0:\n",
    "        return 1\n",
    "    return n*fact(n-1)\n",
    "\n",
    "result=fact(5)\n",
    "print(result)"
   ]
  },
  {
   "cell_type": "markdown",
   "id": "13a7ba55",
   "metadata": {},
   "source": [
    "# ANONYMOUS FUNCTION / LAMBDA:\n",
    "\n",
    "function without name\n",
    "\n",
    "function are object in python.\n",
    "We can pass function to function"
   ]
  },
  {
   "cell_type": "code",
   "execution_count": null,
   "id": "2928e5f0",
   "metadata": {},
   "outputs": [],
   "source": [
    "f=lambda a:a*a # lambda function\n",
    "    # f represent function\n",
    "    # a is argument which we passing here\n",
    "    # a*a operation we want to perform with argument\n",
    "result=f(5) # call lambda function\n",
    "print(result)"
   ]
  },
  {
   "cell_type": "code",
   "execution_count": null,
   "id": "452b9bec",
   "metadata": {},
   "outputs": [],
   "source": [
    "# example\n",
    "\n",
    "f=lambda a,b:a+b\n",
    "\n",
    "result=f(9,6)\n",
    "print(result)"
   ]
  },
  {
   "cell_type": "markdown",
   "id": "a27c8abe",
   "metadata": {},
   "source": [
    "### Note:\n",
    "\n",
    "We can pass n number of argument in anonymous function but it should be one expression."
   ]
  },
  {
   "cell_type": "markdown",
   "id": "1bb53c3e",
   "metadata": {},
   "source": [
    "## filter()\n",
    "\n",
    "The filter() function returns an iterator were the items are filtered through a function to test if the item is accepted or not.\n",
    "\n",
    "##### syntax : filter (function , iterable)"
   ]
  },
  {
   "cell_type": "code",
   "execution_count": 59,
   "id": "735a45a3",
   "metadata": {},
   "outputs": [
    {
     "name": "stdout",
     "output_type": "stream",
     "text": [
      "[54, 100]\n"
     ]
    }
   ],
   "source": [
    "# filter() will take list from user and filter list to give user values\n",
    "\n",
    "def is_even(n):\n",
    "    return n%2==0\n",
    "\n",
    "nums=[3,41,54,75,100] # iterable\n",
    "\n",
    "evens=list(filter(is_even,nums))\n",
    "\n",
    "print(evens)"
   ]
  },
  {
   "cell_type": "markdown",
   "id": "97f33987",
   "metadata": {},
   "source": [
    "We use function so that it can be reusable. But this is_even() is only to be used here. Don't you think this function is customized function for that purpose and it returns only one value.\n",
    "\n",
    "In that case we can use lambda :-"
   ]
  },
  {
   "cell_type": "code",
   "execution_count": 60,
   "id": "5e26fc70",
   "metadata": {},
   "outputs": [
    {
     "name": "stdout",
     "output_type": "stream",
     "text": [
      "[54, 100]\n"
     ]
    }
   ],
   "source": [
    "# filter using lambda\n",
    "\n",
    "nums=[3,41,54,75,100] # iterable\n",
    "\n",
    "evens1=list(filter(lambda n: n%2==0,nums))\n",
    "\n",
    "print(evens1)"
   ]
  },
  {
   "cell_type": "markdown",
   "id": "3ac767c3",
   "metadata": {},
   "source": [
    "## map()\n",
    "\n",
    "The map() function executes a specified function for each item in an iterable. The item is sent to the function as a parameter.\n",
    "\n",
    "##### syntax : map (function , iterable) "
   ]
  },
  {
   "cell_type": "markdown",
   "id": "4969f458",
   "metadata": {},
   "source": [
    "It takes the value and apply some operation.\n",
    "\n",
    "It is used to change value of list etc..."
   ]
  },
  {
   "cell_type": "code",
   "execution_count": 29,
   "id": "709f352f",
   "metadata": {},
   "outputs": [
    {
     "name": "stdout",
     "output_type": "stream",
     "text": [
      "[5, 43, 56, 77, 102]\n"
     ]
    }
   ],
   "source": [
    "# map using function\n",
    "\n",
    "def update(n):\n",
    "    return n+2\n",
    "\n",
    "nums=[3,41,54,75,100] # iterable\n",
    "\n",
    "doubles=list(map(update,nums))\n",
    "\n",
    "print(doubles)"
   ]
  },
  {
   "cell_type": "code",
   "execution_count": 30,
   "id": "b651f0dd",
   "metadata": {},
   "outputs": [
    {
     "name": "stdout",
     "output_type": "stream",
     "text": [
      "[5, 43, 56, 77, 102]\n"
     ]
    }
   ],
   "source": [
    "# map using lambda\n",
    "\n",
    "nums=[3,41,54,75,100] # iterable\n",
    "\n",
    "doubles1=list(map(lambda n: n+2, nums))\n",
    "\n",
    "print(doubles1)"
   ]
  },
  {
   "cell_type": "markdown",
   "id": "5b74e208",
   "metadata": {},
   "source": [
    "## reduce()\n",
    "\n",
    "It belongs to a module functools.\n",
    "\n",
    "It is used to find one value of chunk.\n",
    "\n",
    "##### syntax : reduce (function , iterable) "
   ]
  },
  {
   "cell_type": "code",
   "execution_count": null,
   "id": "9967f35f",
   "metadata": {},
   "outputs": [],
   "source": [
    "# reduce using function\n",
    "\n",
    "from functools import reduce\n",
    "\n",
    "def add_all(a,b):\n",
    "    return a+b\n",
    "\n",
    "summ=reduce(add_all,doubles)\n",
    "\n",
    "print(summ)"
   ]
  },
  {
   "cell_type": "markdown",
   "id": "01a76012",
   "metadata": {},
   "source": [
    "add_all() compute sum and return to reduce. reduce then takes that result and apply it as first element to add_all and tekes next element in doubles and second element to add_all."
   ]
  },
  {
   "cell_type": "code",
   "execution_count": null,
   "id": "e9dbdf9a",
   "metadata": {},
   "outputs": [],
   "source": [
    "# reduce using lambda\n",
    "\n",
    "from functools import reduce\n",
    "\n",
    "summ1=reduce(lambda a,b:a+b,doubles1)\n",
    "             \n",
    "print(summ1)"
   ]
  },
  {
   "cell_type": "markdown",
   "id": "91e28bb6",
   "metadata": {},
   "source": [
    "# DECORATORS\n",
    "\n",
    "A python decorator is a function that takes in a function, add some functinality to it and return the original function."
   ]
  },
  {
   "cell_type": "markdown",
   "id": "e528a706",
   "metadata": {},
   "source": [
    "Python has an interesting feature called decorators to add functionality to an existing code.\n",
    "\n",
    "This is also called metaprogramming because a part of the program tries to modify another part of the program at compile time.\n",
    "\n",
    "Using decorators, we can add extra features to existing function without touching existing function."
   ]
  },
  {
   "cell_type": "markdown",
   "id": "c72b1385",
   "metadata": {},
   "source": [
    "##### Let's try to build a decorator function that prints out some information before and after executing another function."
   ]
  },
  {
   "cell_type": "code",
   "execution_count": 31,
   "id": "c75eff99",
   "metadata": {},
   "outputs": [
    {
     "name": "stdout",
     "output_type": "stream",
     "text": [
      "Hello, World!\n"
     ]
    }
   ],
   "source": [
    "def printer():\n",
    "    print(\"Hello, World!\")\n",
    "\n",
    "\n",
    "def display_info(func):\n",
    "    def inner():\n",
    "        print(\"Executing\",func.__name__,\"function\")\n",
    "        func()\n",
    "        print(\"Finished execution\")\n",
    "    return inner\n",
    "\n",
    "# Let's call printer() normally first.\n",
    "printer()"
   ]
  },
  {
   "cell_type": "markdown",
   "id": "44ee489b",
   "metadata": {},
   "source": [
    "##### Now, let's use the decorator function to run the same printer function."
   ]
  },
  {
   "cell_type": "code",
   "execution_count": 32,
   "id": "6097b8c5",
   "metadata": {},
   "outputs": [
    {
     "name": "stdout",
     "output_type": "stream",
     "text": [
      "Executing printer function\n",
      "Hello, World!\n",
      "Finished execution\n"
     ]
    }
   ],
   "source": [
    "def printer():\n",
    "    print(\"Hello, World!\")\n",
    "\n",
    "\n",
    "def display_info(func):\n",
    "    def inner():\n",
    "        print(\"Executing\",func.__name__,\"function\")\n",
    "        func()\n",
    "        print(\"Finished execution\")\n",
    "    return inner\n",
    "\n",
    "decorated_func = display_info(printer)\n",
    "decorated_func()"
   ]
  },
  {
   "cell_type": "markdown",
   "id": "2904afd1",
   "metadata": {},
   "source": [
    "In Python, we have much more elegant way to write these lines(line 12 and 13) implicitly using @ symbol :-"
   ]
  },
  {
   "cell_type": "markdown",
   "id": "8574d931",
   "metadata": {},
   "source": [
    "##### In python, we have a much more elegant way of to achieve this functionality using the @ symbol."
   ]
  },
  {
   "cell_type": "code",
   "execution_count": 25,
   "id": "b4b440bc",
   "metadata": {},
   "outputs": [
    {
     "name": "stdout",
     "output_type": "stream",
     "text": [
      "Executing printer function\n",
      "Hello, World!\n",
      "Finished execution\n"
     ]
    }
   ],
   "source": [
    "def display_info(func):\n",
    "    def inner():\n",
    "        print(\"Executing\",func.__name__,\"function\")\n",
    "        func()\n",
    "        print(\"Finished execution\")\n",
    "    return inner\n",
    "\n",
    "@display_info\n",
    "def printer():\n",
    "    print(\"Hello, World!\")\n",
    "\n",
    "printer()"
   ]
  },
  {
   "cell_type": "code",
   "execution_count": 38,
   "id": "4549109b",
   "metadata": {},
   "outputs": [
    {
     "data": {
      "text/plain": [
       "'\\n\\n@display_info\\ndef printer():\\n    print(\"Hello, World!\")\\n\\n\\nis equivalent to\\n\\n\\ndef printer():\\n    print(\"Hello, World!\")\\n    \\ndecorated = display_info(printer)\\n\\n'"
      ]
     },
     "execution_count": 38,
     "metadata": {},
     "output_type": "execute_result"
    }
   ],
   "source": [
    "\"\"\"\n",
    "\n",
    "@display_info\n",
    "def printer():\n",
    "    print(\"Hello, World!\")\n",
    "\n",
    "\n",
    "is equivalent to\n",
    "\n",
    "\n",
    "def printer():\n",
    "    print(\"Hello, World!\")\n",
    "    \n",
    "decorated = display_info(printer)\n",
    "\n",
    "\"\"\""
   ]
  },
  {
   "cell_type": "markdown",
   "id": "e58de1d7",
   "metadata": {},
   "source": [
    "Here instead of calling diplay_info() function before the printer function() we will say @display_info.\n",
    "\n",
    "This code equivalent to our previous code that is:\n",
    "\n",
    "def display_info(func):\n",
    "\n",
    "    def inner():\n",
    "    \n",
    "        print(\"Executing\",func.__name__,\"function\")\n",
    "        \n",
    "        func()\n",
    "        \n",
    "        print(\"Finished execution\")\n",
    "        \n",
    "    return inner\n",
    "\n",
    "\n",
    "def printer():\n",
    "\n",
    "    print(\"Hello, World!\")\n",
    "\n",
    "printer=display_info(printer)"
   ]
  },
  {
   "cell_type": "markdown",
   "id": "2a70e8ca",
   "metadata": {},
   "source": [
    "##### Observation from above:\n",
    "\n",
    "As we can see adding @ symbol on top of function definition means that we are passing we are passing that function as an argument to the decorator function and reassigning the function to the return function.\n",
    "\n",
    "We passed printer() function under display_info() decorator and reassign printer() function to the returned inner() function.\n",
    "\n",
    "As we can see, adding @ symbol is a sweeter way to do same thing. it also avoids creating one more extra variable.\n",
    "\n",
    "We pass printer() to the display_info() decorator, using @ symbol makes our code much more cleaner and we can now call the printer(0 function directly without assigning the decorated function to another variable."
   ]
  },
  {
   "cell_type": "code",
   "execution_count": 39,
   "id": "cc982475",
   "metadata": {},
   "outputs": [
    {
     "name": "stdout",
     "output_type": "stream",
     "text": [
      "2.0\n"
     ]
    }
   ],
   "source": [
    "# decorators\n",
    "\n",
    "def div(a,b): # original function\n",
    "    print(a/b)\n",
    "\n",
    "# suppose we want two divide 4/2. \n",
    "# And also want whatever sequence we pass the value we have to get is 2.0 as output here.\n",
    "# that is numerator must be greater than denominator\n",
    "\n",
    "def smart_div(function): # function is div() function\n",
    "    \n",
    "    def inner(a,b): # should take same parameter that was taken by div()\n",
    "        if a<b:\n",
    "            a,b=b,a # swapping\n",
    "        return function(a,b)\n",
    "    return inner\n",
    "\n",
    "div1=smart_div(div) # changing defintion of div , div is original function that we have as div()\n",
    "div1(2,4)\n",
    "\n",
    "# we can name div1 as div as well :- \n",
    "\n",
    "# div=smart_div(div) # div is original function that we have as div()\n",
    "# div=(2,4)"
   ]
  },
  {
   "cell_type": "code",
   "execution_count": 40,
   "id": "a8d1bb51",
   "metadata": {},
   "outputs": [
    {
     "name": "stdout",
     "output_type": "stream",
     "text": [
      "2.0\n"
     ]
    }
   ],
   "source": [
    "# decorators using @\n",
    "\n",
    "# suppose we want two divide 4/2. \n",
    "# And also want whatever sequence we pass the value we have to get is 2.0 as output here.\n",
    "# that is numerator must be greater than denominator\n",
    "\n",
    "def smart_div(function): # function is div() function\n",
    "    \n",
    "    def inner(a,b): # should take same parameter that was taken by div()\n",
    "        if a<b:\n",
    "            a,b=b,a # swapping\n",
    "        return function(a,b)\n",
    "    return inner\n",
    "\n",
    "@ smart_div\n",
    "def div(a,b): # original function\n",
    "    print(a/b)\n",
    "    \n",
    "div(2,4) # calling div"
   ]
  },
  {
   "cell_type": "markdown",
   "id": "6c5a56f0",
   "metadata": {},
   "source": [
    "## Chaining Decorators in Python\n",
    "\n",
    "In Python, a function can be decorated multiple times with different or the same decorator."
   ]
  },
  {
   "cell_type": "markdown",
   "id": "b65a85f8",
   "metadata": {},
   "source": [
    "##### Here, are two decorator functions called star and percent. These functions print a series of star and percentage symbols before and after executing the function"
   ]
  },
  {
   "cell_type": "code",
   "execution_count": 52,
   "id": "ee748c25",
   "metadata": {},
   "outputs": [
    {
     "name": "stdout",
     "output_type": "stream",
     "text": [
      "******************************\n",
      "%%%%%%%%%%%%%%%%%%%%%%%%%%%%%%\n",
      "Decorators are wonderful\n",
      "%%%%%%%%%%%%%%%%%%%%%%%%%%%%%%\n",
      "******************************\n"
     ]
    }
   ],
   "source": [
    "def star(func): # first decorator function\n",
    "    def inner(arg):\n",
    "        print(\"*\" * 30)\n",
    "        func(arg)\n",
    "        print(\"*\" * 30)\n",
    "    return inner\n",
    "\n",
    "def percent(func): # second decorator function\n",
    "    def inner(arg):\n",
    "        print(\"%\" * 30)\n",
    "        func(arg)\n",
    "        print(\"%\" * 30)\n",
    "    return inner\n",
    "\n",
    "@star\n",
    "@percent\n",
    "def printer(msg):\n",
    "    print(msg)\n",
    "\n",
    "printer(\"Decorators are wonderful\")"
   ]
  },
  {
   "cell_type": "markdown",
   "id": "4e4ac6c4",
   "metadata": {},
   "source": [
    "### Remark:\n",
    "\n",
    "As you can see above, these decorators are chained and they wrap the original function.\n",
    "\n",
    "Here, we have first called the star function, and then the percent function. So the star function wraps the percent function which in turn wraps the printer function."
   ]
  },
  {
   "cell_type": "markdown",
   "id": "0c493d0d",
   "metadata": {},
   "source": [
    "# MODULES"
   ]
  },
  {
   "cell_type": "markdown",
   "id": "b9522dc4",
   "metadata": {},
   "source": [
    "We have a file calc.py which contents are :- \n",
    "\n",
    "\n",
    "\n",
    "def add(a,b):\n",
    "\n",
    "    return a+b\n",
    "\n",
    "def sub(a,b):\n",
    "\n",
    "    return a-b\n",
    "\n",
    "def mul(a,b):\n",
    "\n",
    "    return a*b\n",
    "\n",
    "def div(a,b):\n",
    "\n",
    "    return a/b"
   ]
  },
  {
   "cell_type": "markdown",
   "id": "27ba8281",
   "metadata": {},
   "source": [
    "If we want to use this function in another module(file) then:-"
   ]
  },
  {
   "cell_type": "code",
   "execution_count": 53,
   "id": "cf8cd213",
   "metadata": {},
   "outputs": [
    {
     "name": "stdout",
     "output_type": "stream",
     "text": [
      "17\n"
     ]
    }
   ],
   "source": [
    "import calc # importing all functions\n",
    "\n",
    "a=9\n",
    "b=8\n",
    "c=calc.add(a,b)\n",
    "print(c)"
   ]
  },
  {
   "cell_type": "code",
   "execution_count": 54,
   "id": "45b39442",
   "metadata": {},
   "outputs": [
    {
     "name": "stdout",
     "output_type": "stream",
     "text": [
      "72\n"
     ]
    }
   ],
   "source": [
    "from calc import sub,mul # importing sun and mul functions only\n",
    "\n",
    "a=9\n",
    "b=8\n",
    "c=calc.mul(a,b)\n",
    "print(c)"
   ]
  },
  {
   "cell_type": "code",
   "execution_count": 55,
   "id": "d6f8ba6e",
   "metadata": {},
   "outputs": [
    {
     "name": "stdout",
     "output_type": "stream",
     "text": [
      "1\n"
     ]
    }
   ],
   "source": [
    "from calc import * # importing all function \n",
    "\n",
    "a=9\n",
    "b=8\n",
    "c=calc.sub(a,b)\n",
    "print(c)"
   ]
  },
  {
   "cell_type": "markdown",
   "id": "b1d22138",
   "metadata": {},
   "source": [
    "### Note:\n",
    "\n",
    "Not just functions; variables, classes whatever we want can work in module."
   ]
  },
  {
   "cell_type": "markdown",
   "id": "2d61d464",
   "metadata": {},
   "source": [
    "# SPECIAL VARIABLE"
   ]
  },
  {
   "cell_type": "markdown",
   "id": "6e81bc69",
   "metadata": {},
   "source": [
    "In project there may be several modules. But there will be some module which we run first"
   ]
  },
  {
   "cell_type": "code",
   "execution_count": 56,
   "id": "365ce0ae",
   "metadata": {},
   "outputs": [
    {
     "name": "stdout",
     "output_type": "stream",
     "text": [
      "__main__\n"
     ]
    }
   ],
   "source": [
    "print(__name__)"
   ]
  },
  {
   "cell_type": "markdown",
   "id": "9585604a",
   "metadata": {},
   "source": [
    "this file is our first module and may be with this we will have mutiple modules\n",
    "\n",
    "So, the first module name is always main that is point of execution thats where code start"
   ]
  },
  {
   "cell_type": "code",
   "execution_count": 57,
   "id": "b856b383",
   "metadata": {},
   "outputs": [
    {
     "name": "stdout",
     "output_type": "stream",
     "text": [
      "Hello\n",
      "Hello__main__\n"
     ]
    }
   ],
   "source": [
    "print(\"Hello\")\n",
    "print(\"Hello\"+__name__)"
   ]
  },
  {
   "cell_type": "code",
   "execution_count": 58,
   "id": "813e7400",
   "metadata": {},
   "outputs": [
    {
     "name": "stdout",
     "output_type": "stream",
     "text": [
      "This file says: __main__\n"
     ]
    }
   ],
   "source": [
    "import calc\n",
    "\n",
    "print(\"This file says: \"+__name__)"
   ]
  },
  {
   "cell_type": "code",
   "execution_count": null,
   "id": "70cdc859",
   "metadata": {},
   "outputs": [],
   "source": []
  },
  {
   "cell_type": "code",
   "execution_count": null,
   "id": "4b295ebd",
   "metadata": {},
   "outputs": [],
   "source": []
  }
 ],
 "metadata": {
  "kernelspec": {
   "display_name": "Python 3 (ipykernel)",
   "language": "python",
   "name": "python3"
  },
  "language_info": {
   "codemirror_mode": {
    "name": "ipython",
    "version": 3
   },
   "file_extension": ".py",
   "mimetype": "text/x-python",
   "name": "python",
   "nbconvert_exporter": "python",
   "pygments_lexer": "ipython3",
   "version": "3.9.6"
  }
 },
 "nbformat": 4,
 "nbformat_minor": 5
}
