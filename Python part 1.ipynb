{
 "cells": [
  {
   "cell_type": "markdown",
   "id": "23410172",
   "metadata": {},
   "source": [
    "## Content of Part-1\n",
    "\n",
    "Basic python operators\n",
    "\n",
    "Indexing\n",
    "\n",
    "User input\n",
    "\n",
    "List\n",
    "\n",
    "Tuple\n",
    "\n",
    "Set\n",
    "\n",
    "Dictionary (Mapping)\n",
    "\n",
    "Variables\n",
    "\n",
    "Datatypes"
   ]
  },
  {
   "cell_type": "markdown",
   "id": "ffb5d643",
   "metadata": {},
   "source": [
    "# PYTHON"
   ]
  },
  {
   "cell_type": "code",
   "execution_count": 1,
   "id": "01f6955f",
   "metadata": {},
   "outputs": [
    {
     "data": {
      "text/plain": [
       "1.5"
      ]
     },
     "execution_count": 1,
     "metadata": {},
     "output_type": "execute_result"
    }
   ],
   "source": [
    "3/2 # float number"
   ]
  },
  {
   "cell_type": "code",
   "execution_count": 2,
   "id": "ac80a2e4",
   "metadata": {},
   "outputs": [
    {
     "data": {
      "text/plain": [
       "9"
      ]
     },
     "execution_count": 2,
     "metadata": {},
     "output_type": "execute_result"
    }
   ],
   "source": [
    "19//2 # integer value"
   ]
  },
  {
   "cell_type": "code",
   "execution_count": 3,
   "id": "1f2bf60e",
   "metadata": {},
   "outputs": [
    {
     "data": {
      "text/plain": [
       "1"
      ]
     },
     "execution_count": 3,
     "metadata": {},
     "output_type": "execute_result"
    }
   ],
   "source": [
    "3%2 # return remainder"
   ]
  },
  {
   "cell_type": "code",
   "execution_count": 4,
   "id": "2448cc3d",
   "metadata": {},
   "outputs": [
    {
     "data": {
      "text/plain": [
       "1"
      ]
     },
     "execution_count": 4,
     "metadata": {},
     "output_type": "execute_result"
    }
   ],
   "source": [
    "-3%2 # return remainder"
   ]
  },
  {
   "cell_type": "code",
   "execution_count": 5,
   "id": "95d3f908",
   "metadata": {},
   "outputs": [
    {
     "data": {
      "text/plain": [
       "32"
      ]
     },
     "execution_count": 5,
     "metadata": {},
     "output_type": "execute_result"
    }
   ],
   "source": [
    "2**5 # 2 to the power 5"
   ]
  },
  {
   "cell_type": "markdown",
   "id": "0d5ae95d",
   "metadata": {},
   "source": [
    "### Use cases of single(' ') and double (\" \") quotes"
   ]
  },
  {
   "cell_type": "code",
   "execution_count": 6,
   "id": "550d5dca",
   "metadata": {},
   "outputs": [
    {
     "name": "stdout",
     "output_type": "stream",
     "text": [
      "python\n"
     ]
    }
   ],
   "source": [
    "print('python')"
   ]
  },
  {
   "cell_type": "code",
   "execution_count": 7,
   "id": "a0f22ca7",
   "metadata": {},
   "outputs": [
    {
     "name": "stdout",
     "output_type": "stream",
     "text": [
      "python\n"
     ]
    }
   ],
   "source": [
    "print(\"python\")"
   ]
  },
  {
   "cell_type": "code",
   "execution_count": 8,
   "id": "219065ac",
   "metadata": {},
   "outputs": [
    {
     "ename": "SyntaxError",
     "evalue": "invalid syntax (Temp/ipykernel_18128/925841124.py, line 1)",
     "output_type": "error",
     "traceback": [
      "\u001b[1;36m  File \u001b[1;32m\"C:\\Users\\SAURAB~1\\AppData\\Local\\Temp/ipykernel_18128/925841124.py\"\u001b[1;36m, line \u001b[1;32m1\u001b[0m\n\u001b[1;33m    print('ram's book') # Eroor\u001b[0m\n\u001b[1;37m               ^\u001b[0m\n\u001b[1;31mSyntaxError\u001b[0m\u001b[1;31m:\u001b[0m invalid syntax\n"
     ]
    }
   ],
   "source": [
    "print('ram's book') # Eroor"
   ]
  },
  {
   "cell_type": "code",
   "execution_count": 9,
   "id": "b7ef3393",
   "metadata": {},
   "outputs": [
    {
     "name": "stdout",
     "output_type": "stream",
     "text": [
      "ram's book\n"
     ]
    }
   ],
   "source": [
    "print(\"ram's book\")"
   ]
  },
  {
   "cell_type": "code",
   "execution_count": 10,
   "id": "73795849",
   "metadata": {},
   "outputs": [
    {
     "ename": "SyntaxError",
     "evalue": "invalid syntax (Temp/ipykernel_18128/2733651496.py, line 1)",
     "output_type": "error",
     "traceback": [
      "\u001b[1;36m  File \u001b[1;32m\"C:\\Users\\SAURAB~1\\AppData\\Local\\Temp/ipykernel_18128/2733651496.py\"\u001b[1;36m, line \u001b[1;32m1\u001b[0m\n\u001b[1;33m    print(\"ram eat \"mango\"\") # Error\u001b[0m\n\u001b[1;37m                    ^\u001b[0m\n\u001b[1;31mSyntaxError\u001b[0m\u001b[1;31m:\u001b[0m invalid syntax\n"
     ]
    }
   ],
   "source": [
    "print(\"ram eat \"mango\"\") # Error"
   ]
  },
  {
   "cell_type": "code",
   "execution_count": 11,
   "id": "a323776d",
   "metadata": {},
   "outputs": [
    {
     "name": "stdout",
     "output_type": "stream",
     "text": [
      "ram eat \"mango\"\n"
     ]
    }
   ],
   "source": [
    "print('ram eat \"mango\"')"
   ]
  },
  {
   "cell_type": "code",
   "execution_count": 12,
   "id": "14e82731",
   "metadata": {},
   "outputs": [
    {
     "ename": "SyntaxError",
     "evalue": "invalid syntax (Temp/ipykernel_18128/4233635335.py, line 3)",
     "output_type": "error",
     "traceback": [
      "\u001b[1;36m  File \u001b[1;32m\"C:\\Users\\SAURAB~1\\AppData\\Local\\Temp/ipykernel_18128/4233635335.py\"\u001b[1;36m, line \u001b[1;32m3\u001b[0m\n\u001b[1;33m    print('ram's\"laptop\"') # Error\u001b[0m\n\u001b[1;37m               ^\u001b[0m\n\u001b[1;31mSyntaxError\u001b[0m\u001b[1;31m:\u001b[0m invalid syntax\n"
     ]
    }
   ],
   "source": [
    "# we want to print ram's \"laptop\"\n",
    "\n",
    "print('ram's\"laptop\"') # Error"
   ]
  },
  {
   "cell_type": "code",
   "execution_count": 13,
   "id": "b6b4482d",
   "metadata": {},
   "outputs": [
    {
     "name": "stdout",
     "output_type": "stream",
     "text": [
      "rams's \"laptop\"\n"
     ]
    }
   ],
   "source": [
    "print('rams\\'s \"laptop\"')\n",
    "\n",
    "# by using backslash before single quote we say python can you please ignore the special meaning of  this single quote "
   ]
  },
  {
   "cell_type": "code",
   "execution_count": 14,
   "id": "179490cd",
   "metadata": {},
   "outputs": [
    {
     "name": "stdout",
     "output_type": "stream",
     "text": [
      "c:\\docs\n",
      "avin\n"
     ]
    }
   ],
   "source": [
    "print('c:\\docs\\navin') # but we want to print as it is"
   ]
  },
  {
   "cell_type": "code",
   "execution_count": 15,
   "id": "9f0d40f7",
   "metadata": {},
   "outputs": [
    {
     "name": "stdout",
     "output_type": "stream",
     "text": [
      "c:\\docs\\navin\n"
     ]
    }
   ],
   "source": [
    "print(r'c:\\docs\\navin') # r can be used to print string as it is without coonverting it into special meaning"
   ]
  },
  {
   "cell_type": "code",
   "execution_count": 16,
   "id": "0fa360f7",
   "metadata": {},
   "outputs": [
    {
     "data": {
      "text/plain": [
       "'ramram'"
      ]
     },
     "execution_count": 16,
     "metadata": {},
     "output_type": "execute_result"
    }
   ],
   "source": [
    "'ram'+'ram' # will concatenate string"
   ]
  },
  {
   "cell_type": "code",
   "execution_count": 17,
   "id": "249d8e36",
   "metadata": {},
   "outputs": [
    {
     "data": {
      "text/plain": [
       "'ramramramramram'"
      ]
     },
     "execution_count": 17,
     "metadata": {},
     "output_type": "execute_result"
    }
   ],
   "source": [
    "'ram'*5"
   ]
  },
  {
   "cell_type": "markdown",
   "id": "fbd22463",
   "metadata": {},
   "source": [
    "# INDEXING\n",
    "\n",
    "\n",
    "In python indexing start from 0"
   ]
  },
  {
   "cell_type": "code",
   "execution_count": 18,
   "id": "afbe5ace",
   "metadata": {},
   "outputs": [
    {
     "data": {
      "text/plain": [
       "'YOUTUBE'"
      ]
     },
     "execution_count": 18,
     "metadata": {},
     "output_type": "execute_result"
    }
   ],
   "source": [
    "str1=\"YOUTUBE\" \n",
    "str1"
   ]
  },
  {
   "cell_type": "code",
   "execution_count": 19,
   "id": "f208d136",
   "metadata": {},
   "outputs": [
    {
     "data": {
      "text/plain": [
       "7"
      ]
     },
     "execution_count": 19,
     "metadata": {},
     "output_type": "execute_result"
    }
   ],
   "source": [
    "len(str1)"
   ]
  },
  {
   "cell_type": "code",
   "execution_count": 20,
   "id": "46a63c92",
   "metadata": {},
   "outputs": [
    {
     "data": {
      "text/plain": [
       "'Y'"
      ]
     },
     "execution_count": 20,
     "metadata": {},
     "output_type": "execute_result"
    }
   ],
   "source": [
    "str1[0] # first element"
   ]
  },
  {
   "cell_type": "code",
   "execution_count": 21,
   "id": "24057994",
   "metadata": {},
   "outputs": [
    {
     "data": {
      "text/plain": [
       "'YOUT'"
      ]
     },
     "execution_count": 21,
     "metadata": {},
     "output_type": "execute_result"
    }
   ],
   "source": [
    "str1[0:4] # last index excluded"
   ]
  },
  {
   "cell_type": "code",
   "execution_count": 22,
   "id": "70aec4a3",
   "metadata": {},
   "outputs": [
    {
     "data": {
      "text/plain": [
       "'TUBE'"
      ]
     },
     "execution_count": 22,
     "metadata": {},
     "output_type": "execute_result"
    }
   ],
   "source": [
    "str1[3:]"
   ]
  },
  {
   "cell_type": "code",
   "execution_count": 23,
   "id": "87cfa41c",
   "metadata": {},
   "outputs": [
    {
     "data": {
      "text/plain": [
       "'YOUT'"
      ]
     },
     "execution_count": 23,
     "metadata": {},
     "output_type": "execute_result"
    }
   ],
   "source": [
    "str1[:4]"
   ]
  },
  {
   "cell_type": "code",
   "execution_count": 24,
   "id": "5f3c394f",
   "metadata": {},
   "outputs": [
    {
     "data": {
      "text/plain": [
       "'YOUTUBE'"
      ]
     },
     "execution_count": 24,
     "metadata": {},
     "output_type": "execute_result"
    }
   ],
   "source": [
    "str1[:]"
   ]
  },
  {
   "cell_type": "code",
   "execution_count": 25,
   "id": "91566534",
   "metadata": {},
   "outputs": [
    {
     "data": {
      "text/plain": [
       "'UTUBE'"
      ]
     },
     "execution_count": 25,
     "metadata": {},
     "output_type": "execute_result"
    }
   ],
   "source": [
    "# what if give index more than the length\n",
    "\n",
    "str1[2:30] # will print till last element withougiving any error"
   ]
  },
  {
   "cell_type": "markdown",
   "id": "304f09b7",
   "metadata": {},
   "source": [
    "### Note\n",
    "\n",
    "\n",
    "Python support negative indexing as well.\n",
    "\n",
    "negative indexing means start from last\n",
    "\n",
    "1   2   3   4   5   6   7  +ve indexing\n",
    "\n",
    "Y   O   U   T   U   B   E\n",
    "\n",
    "-7 -6  -5  -4  -3  -2  -1  -ve indexing"
   ]
  },
  {
   "cell_type": "code",
   "execution_count": 26,
   "id": "78175e25",
   "metadata": {},
   "outputs": [
    {
     "data": {
      "text/plain": [
       "'E'"
      ]
     },
     "execution_count": 26,
     "metadata": {},
     "output_type": "execute_result"
    }
   ],
   "source": [
    "str1[-1] # negative indexing means start from last"
   ]
  },
  {
   "cell_type": "code",
   "execution_count": 27,
   "id": "7bbfd8d0",
   "metadata": {},
   "outputs": [
    {
     "data": {
      "text/plain": [
       "'TUB'"
      ]
     },
     "execution_count": 27,
     "metadata": {},
     "output_type": "execute_result"
    }
   ],
   "source": [
    "str1[3:-1]"
   ]
  },
  {
   "cell_type": "code",
   "execution_count": 28,
   "id": "42b47d92",
   "metadata": {},
   "outputs": [
    {
     "data": {
      "text/plain": [
       "'YOU'"
      ]
     },
     "execution_count": 28,
     "metadata": {},
     "output_type": "execute_result"
    }
   ],
   "source": [
    "str1[-7:-4] # always move from left to right"
   ]
  },
  {
   "cell_type": "markdown",
   "id": "97aaddd2",
   "metadata": {},
   "source": [
    "### Note\n",
    "\n",
    "String in python are immutable"
   ]
  },
  {
   "cell_type": "code",
   "execution_count": 29,
   "id": "f2edad3e",
   "metadata": {},
   "outputs": [
    {
     "ename": "TypeError",
     "evalue": "'str' object does not support item assignment",
     "output_type": "error",
     "traceback": [
      "\u001b[1;31m---------------------------------------------------------------------------\u001b[0m",
      "\u001b[1;31mTypeError\u001b[0m                                 Traceback (most recent call last)",
      "\u001b[1;32mC:\\Users\\SAURAB~1\\AppData\\Local\\Temp/ipykernel_18128/62839587.py\u001b[0m in \u001b[0;36m<module>\u001b[1;34m\u001b[0m\n\u001b[1;32m----> 1\u001b[1;33m \u001b[0mstr1\u001b[0m\u001b[1;33m[\u001b[0m\u001b[1;36m2\u001b[0m\u001b[1;33m]\u001b[0m\u001b[1;33m=\u001b[0m\u001b[1;34m'M'\u001b[0m\u001b[1;33m\u001b[0m\u001b[1;33m\u001b[0m\u001b[0m\n\u001b[0m",
      "\u001b[1;31mTypeError\u001b[0m: 'str' object does not support item assignment"
     ]
    }
   ],
   "source": [
    "str1[2]='M'"
   ]
  },
  {
   "cell_type": "markdown",
   "id": "bd3ce595",
   "metadata": {},
   "source": [
    "# TAKING INPUT FROM USER"
   ]
  },
  {
   "cell_type": "code",
   "execution_count": 30,
   "id": "a30b5f21",
   "metadata": {},
   "outputs": [
    {
     "name": "stdout",
     "output_type": "stream",
     "text": [
      "Enter your name: Ramesh\n",
      "Ramesh\n",
      "<class 'str'>\n"
     ]
    }
   ],
   "source": [
    "# user input\n",
    "\n",
    "name=input(\"Enter your name: \")\n",
    "# by default return type of input is string\n",
    "\n",
    "print(name)\n",
    "print(type(name))"
   ]
  },
  {
   "cell_type": "code",
   "execution_count": 31,
   "id": "6a0b3ad1",
   "metadata": {},
   "outputs": [
    {
     "name": "stdout",
     "output_type": "stream",
     "text": [
      "Enter integer: 124\n",
      "Enter float: 123.345\n",
      "124\n",
      "123.345\n"
     ]
    }
   ],
   "source": [
    "# taking input of different type\n",
    "\n",
    "intNum=int(input(\"Enter integer: \"))\n",
    "floatNum=float(input(\"Enter float: \"))\n",
    "\n",
    "print(intNum)\n",
    "print(floatNum)"
   ]
  },
  {
   "cell_type": "markdown",
   "id": "60ca6a96",
   "metadata": {},
   "source": [
    "# LIST\n",
    "\n",
    "list are muttable that is we can change the value inside list\n",
    "\n",
    "list support indexing\n",
    "\n",
    "two or more list have same element points to different memory allocation"
   ]
  },
  {
   "cell_type": "code",
   "execution_count": null,
   "id": "abcc1825",
   "metadata": {},
   "outputs": [],
   "source": [
    "list1=[1,2,3,4] # list \n",
    "\n",
    "print(type(list1)) # print type of item\n",
    "\n",
    "list1"
   ]
  },
  {
   "cell_type": "code",
   "execution_count": null,
   "id": "8c12d044",
   "metadata": {},
   "outputs": [],
   "source": [
    "emptyList=[] # empty list declaration\n",
    "\n",
    "print(type(emptyList))\n",
    "\n",
    "emptyList"
   ]
  },
  {
   "cell_type": "code",
   "execution_count": null,
   "id": "bcbf5f46",
   "metadata": {},
   "outputs": [],
   "source": [
    "# list can contain items of different datatypes\n",
    "\n",
    "list1=[1,'a',\"ram\",True] \n",
    "list1"
   ]
  },
  {
   "cell_type": "code",
   "execution_count": null,
   "id": "b2fe4992",
   "metadata": {},
   "outputs": [],
   "source": [
    "# list can contain another list as an item\n",
    "\n",
    "list2=[1,2,3,['a','b','c'],True] \n",
    "list2"
   ]
  },
  {
   "cell_type": "code",
   "execution_count": null,
   "id": "446dc09c",
   "metadata": {},
   "outputs": [],
   "source": [
    "list2[3]"
   ]
  },
  {
   "cell_type": "code",
   "execution_count": null,
   "id": "d1619934",
   "metadata": {},
   "outputs": [],
   "source": [
    "# nested list means list inside list\n",
    "\n",
    "nestList=[[1,2,9,8],[3,4],[5,6]]\n",
    "nestList"
   ]
  },
  {
   "cell_type": "code",
   "execution_count": null,
   "id": "a2af7044",
   "metadata": {},
   "outputs": [],
   "source": [
    "# accessing element fro nested list\n",
    "\n",
    "print(nestList[0]) \n",
    "print(nestList[0][1]) # first index represent outer list and second index represent inner list\n",
    "print(nestList[0][1:])\n",
    "print(nestList[:][1])"
   ]
  },
  {
   "cell_type": "code",
   "execution_count": null,
   "id": "af1b70f6",
   "metadata": {},
   "outputs": [],
   "source": [
    "# list methods\n",
    "\n",
    "list1=[1,2,3,4]\n",
    "\n",
    "print(min(list1)) # give minimum element from list\n",
    "print(max(list1)) # give maximum element from list\n",
    "print(sum(list1)) # give sum of elements in list\n",
    "\n",
    "# append() method takes only one argument (element)\n",
    "list1.append(9) # add item at end of list\n",
    "print(list1)\n",
    "\n",
    "# insert() method take two argumnt (index,element)\n",
    "list1.insert(3, 12.3)\n",
    "print(list1)\n",
    "\n",
    "# remove() method take one argument (element)\n",
    "list1.remove(3) # remove passed element from list, if element doesnot exist in list then will give error\n",
    "print(list1)\n",
    "\n",
    "# pop() mthod takes one argument (index)\n",
    "list1.pop(4)\n",
    "print(list1)\n",
    "\n",
    "# del is used to delete one or more element at a time using indexing\n",
    "del list1[1:3]\n",
    "print(list1)\n",
    "\n",
    "del list1[1]\n",
    "print(list1)\n",
    "\n",
    "# extend() method take one iterable argument (iterable) like list,.....\n",
    "list1.extend([88,44,66])\n",
    "print(list1)\n"
   ]
  },
  {
   "cell_type": "markdown",
   "id": "fd7e287a",
   "metadata": {},
   "source": [
    "### Note\n",
    "\n",
    "A string is an iterable, so if we extend list with a string, we will append each character as we iterate over string\n",
    "\n",
    "see example below:-"
   ]
  },
  {
   "cell_type": "code",
   "execution_count": null,
   "id": "b8f27346",
   "metadata": {},
   "outputs": [],
   "source": [
    "list1.extend(\"python\")\n",
    "print(list1)"
   ]
  },
  {
   "cell_type": "markdown",
   "id": "b8152a76",
   "metadata": {},
   "source": [
    "### Remark\n",
    "\n",
    "append() has constant time complexity that is O(1)\n",
    "\n",
    "extend() has time complexity of O(k) where k is length of list to be added"
   ]
  },
  {
   "cell_type": "code",
   "execution_count": null,
   "id": "d9099206",
   "metadata": {},
   "outputs": [],
   "source": [
    "# sorting list\n",
    "\n",
    "list2=[3,9,3,-1,344,12,-44,77]\n",
    "\n",
    "list2.sort() # sort list in ascending order\n",
    "print(list2)\n",
    "\n",
    "list2.sort(reverse=True) # sort list in descending order\n",
    "print(list2)\n",
    "\n",
    "a=list2.sort() # try ot assigning it in a variable will return None\n",
    "print(a)"
   ]
  },
  {
   "cell_type": "code",
   "execution_count": null,
   "id": "b0bed152",
   "metadata": {},
   "outputs": [],
   "source": [
    "# lists with same element refer to different memory address\n",
    "\n",
    "a=[1,2,3,4]\n",
    "b=[1,2,3,4]\n",
    "\n",
    "print(id(a)) # return address of element\n",
    "print(id(b))\n",
    "\n",
    "c=[4,3,2,1]\n",
    "print(id(c))"
   ]
  },
  {
   "cell_type": "markdown",
   "id": "9d6aa5dc",
   "metadata": {},
   "source": [
    "## creating list from user input"
   ]
  },
  {
   "cell_type": "code",
   "execution_count": null,
   "id": "df281c39",
   "metadata": {},
   "outputs": [],
   "source": [
    "# method 1\n",
    "\n",
    "string1=input(\"Enter elements of list separated by space: \") # list of all string datatype\n",
    "list3=string1.split()\n",
    "print(list3)"
   ]
  },
  {
   "cell_type": "code",
   "execution_count": null,
   "id": "c345e37a",
   "metadata": {},
   "outputs": [],
   "source": [
    "# method 2\n",
    "\n",
    "list4=[]\n",
    "n=int(input(\"Enter size: \"))\n",
    "for i in range(n):\n",
    "    item=int(input(\"Enter element: \")) # list of int datatype\n",
    "    list4.append(item)\n",
    "print(list4)"
   ]
  },
  {
   "cell_type": "code",
   "execution_count": null,
   "id": "682ad18e",
   "metadata": {
    "scrolled": true
   },
   "outputs": [],
   "source": [
    "# method 3\n",
    "\n",
    "n=int(input(\"Enter size: \"))\n",
    "list5=list(int(item) for item in input(\"Enter items separated by space: \").strip().split())[:n]\n",
    "print(list5)"
   ]
  },
  {
   "cell_type": "code",
   "execution_count": null,
   "id": "bfedbdcc",
   "metadata": {},
   "outputs": [],
   "source": [
    "# method 4\n",
    "\n",
    "n=int(input(\"Enter size: \"))\n",
    "list6=list(map(int,input(\"Enter items separated by space: \").strip().split()))[:n]\n",
    "print(list6)"
   ]
  },
  {
   "cell_type": "code",
   "execution_count": null,
   "id": "1e33ef0a",
   "metadata": {},
   "outputs": [],
   "source": [
    "# nested list or 2D array\n",
    "\n",
    "r=int(input(\"Enter row size: \"))\n",
    "c=int(input(\"Enter column size: \"))\n",
    "list7=[[int(input(\"Enter element and hit enter key:\")) for i in range(c)] for i in range(r)]\n",
    "print(list7)"
   ]
  },
  {
   "cell_type": "code",
   "execution_count": null,
   "id": "fe11e737",
   "metadata": {},
   "outputs": [],
   "source": [
    "# nested list\n",
    "\n",
    "list8=[]\n",
    "n=int(input(\"Enter size: \"))\n",
    "for i in range(n):\n",
    "    items=[input(\"Enter string item: \"),int(input(\"Enter int item\"))]\n",
    "    list8.append(items)\n",
    "print(list8)"
   ]
  },
  {
   "cell_type": "markdown",
   "id": "8d07c4c2",
   "metadata": {},
   "source": [
    "# TUPLE\n",
    "\n",
    "tuple are immutable that is we cannot change its element\n",
    "\n",
    "tuple support indexing like list\n",
    "\n",
    "two or more tuples having same element points to same memory allocation"
   ]
  },
  {
   "cell_type": "code",
   "execution_count": null,
   "id": "6ab2205e",
   "metadata": {},
   "outputs": [],
   "source": [
    "tuple1=(1,2,3,4) # tuple declartion\n",
    "\n",
    "print(type(tuple1))\n",
    "\n",
    "tuple1"
   ]
  },
  {
   "cell_type": "code",
   "execution_count": null,
   "id": "c07adc9a",
   "metadata": {},
   "outputs": [],
   "source": [
    "tuple11=(1,) # tuple having single element\n",
    "print(type(tuple11))\n",
    "\n",
    "tuple12=(1) # this is not tuple\n",
    "print(type(tuple12))"
   ]
  },
  {
   "cell_type": "code",
   "execution_count": null,
   "id": "86534e16",
   "metadata": {},
   "outputs": [],
   "source": [
    "emptyTuple=() # empty tuple declaration\n",
    "\n",
    "print(type(emptyTuple))\n",
    "\n",
    "emptyTuple"
   ]
  },
  {
   "cell_type": "code",
   "execution_count": null,
   "id": "18f20d02",
   "metadata": {},
   "outputs": [],
   "source": [
    "tuple1[1:3] # indexing i same as list"
   ]
  },
  {
   "cell_type": "code",
   "execution_count": null,
   "id": "0e35415e",
   "metadata": {},
   "outputs": [],
   "source": [
    "tuple1[0]=99 # tuple are immutable"
   ]
  },
  {
   "cell_type": "code",
   "execution_count": null,
   "id": "e2320a20",
   "metadata": {},
   "outputs": [],
   "source": [
    "# tuple item can be of different datatypes\n",
    "tuple2=('a',\"apple\",1,12.66,False)\n",
    "tuple2"
   ]
  },
  {
   "cell_type": "code",
   "execution_count": null,
   "id": "c37f5135",
   "metadata": {},
   "outputs": [],
   "source": [
    "# tuples having same elements points to same memory loaction\n",
    "\n",
    "tupl1=(1,2,3,4,5)\n",
    "tupl2=(1,2,3,4,5)\n",
    "\n",
    "print(id(tupl1))\n",
    "print(id(tupl2))"
   ]
  },
  {
   "cell_type": "code",
   "execution_count": null,
   "id": "6f2a0975",
   "metadata": {},
   "outputs": [],
   "source": [
    "fruit=['apple','banana','guava']\n",
    "(x,y,z)=fruit"
   ]
  },
  {
   "cell_type": "code",
   "execution_count": null,
   "id": "01c35765",
   "metadata": {},
   "outputs": [],
   "source": [
    "print(x)\n",
    "print(type(x))\n",
    "\n",
    "print(y)\n",
    "print(type(y))\n",
    "\n",
    "print(z)\n",
    "print(type(z))"
   ]
  },
  {
   "cell_type": "code",
   "execution_count": null,
   "id": "4203361a",
   "metadata": {},
   "outputs": [],
   "source": [
    "# split() returns list of strings after breaking given string by specified separation\n",
    "\n",
    "email=\"saurabhp85070@gmail.com\"\n",
    "email.split('@')"
   ]
  },
  {
   "cell_type": "code",
   "execution_count": null,
   "id": "5b6a4581",
   "metadata": {},
   "outputs": [],
   "source": [
    "part1,part2=email.split('@')\n",
    "\n",
    "print(type(part1))\n",
    "print(part1)\n",
    "\n",
    "print(type(part2))\n",
    "print(part2)"
   ]
  },
  {
   "cell_type": "markdown",
   "id": "025649e2",
   "metadata": {},
   "source": [
    "### Note\n",
    "\n",
    "iteration in tuple is faster than list"
   ]
  },
  {
   "cell_type": "markdown",
   "id": "443c3cab",
   "metadata": {},
   "source": [
    "## creating tuple from user input"
   ]
  },
  {
   "cell_type": "markdown",
   "id": "d168115b",
   "metadata": {},
   "source": [
    "We can create tuple from user input in same way as we create list.\n",
    "\n",
    "We can do it in three ways:\n",
    "\n",
    "(1) We will call tuple() method instead of list()\n",
    "\n",
    "(2) We will place ( ) instead of [ ]\n",
    "\n",
    "(3) We will create list and convert it into tuple using tuple() method"
   ]
  },
  {
   "cell_type": "markdown",
   "id": "45e64e3c",
   "metadata": {},
   "source": [
    "## List VS Tuple\n",
    "\n",
    "tuples are stored in single block of memory\n",
    "\n",
    "list are alocated in two blocks: fixed one with all python object information and other with a variable sized block for data\n",
    "\n",
    "Create tuple is faster than list\n",
    "\n",
    "whenever application needs a constant set of values and which can be iterated through it then tuple is preffered than list\n",
    "\n",
    "tuple makes code safer if data is to be write-protect that is need not to be changed anytime later."
   ]
  },
  {
   "cell_type": "markdown",
   "id": "b1e5b419",
   "metadata": {},
   "source": [
    "# SET\n",
    "\n",
    "set are immutable\n",
    "\n",
    "set never follow sequence\n",
    "\n",
    "set does not support indexing\n",
    "\n",
    "duplicates values are printed only songle time\n",
    "\n",
    "two or more sets having same elements points to different memory alloocation"
   ]
  },
  {
   "cell_type": "code",
   "execution_count": null,
   "id": "596cc00f",
   "metadata": {},
   "outputs": [],
   "source": [
    "set1={1,2,3,4,3} # set declaration\n",
    "\n",
    "print(type(set1))\n",
    "\n",
    "set1"
   ]
  },
  {
   "cell_type": "markdown",
   "id": "53813018",
   "metadata": {},
   "source": [
    "### Note\n",
    "\n",
    "we cannot create empty set using way:- emptySet={}\n",
    "\n",
    "this basically represent empty dictionary not set\n",
    "\n",
    "so, to create empty set we will use set() method"
   ]
  },
  {
   "cell_type": "code",
   "execution_count": null,
   "id": "7141ee9c",
   "metadata": {},
   "outputs": [],
   "source": [
    "emptySet=set() # empty set\n",
    "\n",
    "print(type(emptySet))\n",
    "\n",
    "emptySet"
   ]
  },
  {
   "cell_type": "code",
   "execution_count": null,
   "id": "94202e65",
   "metadata": {},
   "outputs": [],
   "source": [
    "emptySet2={} # this is not set\n",
    "print(type(emptySet2))"
   ]
  },
  {
   "cell_type": "code",
   "execution_count": null,
   "id": "3a067779",
   "metadata": {},
   "outputs": [],
   "source": [
    "# set item can be of different datatypes\n",
    "\n",
    "set1={1,12.3,True,'a','apple'}\n",
    "set1"
   ]
  },
  {
   "cell_type": "markdown",
   "id": "ff5b1e05",
   "metadata": {},
   "source": [
    "## creating set from user input"
   ]
  },
  {
   "cell_type": "markdown",
   "id": "4b2b306e",
   "metadata": {},
   "source": [
    "We can create set from user input in same way as we create list.\n",
    "\n",
    "We can do it in three ways:\n",
    "\n",
    "(1) We will call set() method instead of list()\n",
    "\n",
    "(2) We will place { } instead of [ ]\n",
    "\n",
    "(3) We will create list and convert it into tuple using set() method"
   ]
  },
  {
   "cell_type": "markdown",
   "id": "4e845479",
   "metadata": {},
   "source": [
    "### Remark\n",
    "\n",
    "we can use list() method for creating list and for conversion into list\n",
    "\n",
    "we can use tuple() method for creating tuple and for conversion into tuple\n",
    "\n",
    "we can use set() for creating set"
   ]
  },
  {
   "cell_type": "markdown",
   "id": "c141cedb",
   "metadata": {},
   "source": [
    "# VARIABLE\n",
    "\n",
    "whenever we create multiple variable and in case they have same data, they both will pooint to same address"
   ]
  },
  {
   "cell_type": "code",
   "execution_count": null,
   "id": "72776cfb",
   "metadata": {},
   "outputs": [],
   "source": [
    "a=2\n",
    "b=3\n",
    "c=2\n",
    "\n",
    "print(id(a))\n",
    "print(id(b))\n",
    "print(id(c))"
   ]
  },
  {
   "cell_type": "code",
   "execution_count": null,
   "id": "9ac8aaea",
   "metadata": {},
   "outputs": [],
   "source": [
    "a=9    # a is reffering to 9\n",
    "b=10   # b is reffering to 10\n",
    "k=a\n",
    "\n",
    "print(id(b))\n",
    "\n",
    "# id of k will be same as a\n",
    "print(id(k))\n",
    "print(id(a))\n",
    "\n",
    "# now,\n",
    "b=8    # no thing is reffering to value 10, so it will collect garbage value"
   ]
  },
  {
   "cell_type": "markdown",
   "id": "c2b8d533",
   "metadata": {},
   "source": [
    "### Note\n",
    "\n",
    "whenever we have a data in memory which will not be used or which is not tagged any variable, it will be garbage collection later."
   ]
  },
  {
   "cell_type": "code",
   "execution_count": null,
   "id": "03f00f41",
   "metadata": {},
   "outputs": [],
   "source": [
    "a=2,b=3,c=4 # wrong way to declare multuple variable in one line"
   ]
  },
  {
   "cell_type": "code",
   "execution_count": null,
   "id": "2a0fccdb",
   "metadata": {},
   "outputs": [],
   "source": [
    "a=2; b=3; c=4\n",
    "print(a,b,c)"
   ]
  },
  {
   "cell_type": "markdown",
   "id": "df1de187",
   "metadata": {},
   "source": [
    "# DATATYPES\n",
    "\n",
    "None:- variable that not been assigned with any value. In other language, it is called null\n",
    "\n",
    "numeric:- int, float, complex, bool\n",
    "\n",
    "list\n",
    "\n",
    "tuple\n",
    "\n",
    "set\n",
    "\n",
    "string\n",
    "\n",
    "range\n",
    "\n",
    "dictionary"
   ]
  },
  {
   "cell_type": "code",
   "execution_count": null,
   "id": "541e9d5e",
   "metadata": {},
   "outputs": [],
   "source": [
    "# complex\n",
    "\n",
    "k=6\n",
    "b=2.8\n",
    "\n",
    "c=complex(b,k)\n",
    "\n",
    "print(type(c))\n",
    "print(c)"
   ]
  },
  {
   "cell_type": "code",
   "execution_count": null,
   "id": "9ccff49d",
   "metadata": {},
   "outputs": [],
   "source": [
    "c=3+j"
   ]
  },
  {
   "cell_type": "code",
   "execution_count": null,
   "id": "078f736b",
   "metadata": {},
   "outputs": [],
   "source": [
    "cp=3+1j\n",
    "\n",
    "print(type(cp))\n",
    "cp"
   ]
  },
  {
   "cell_type": "code",
   "execution_count": null,
   "id": "d34eb744",
   "metadata": {},
   "outputs": [],
   "source": [
    "int(False)"
   ]
  },
  {
   "cell_type": "code",
   "execution_count": null,
   "id": "9e8b551e",
   "metadata": {},
   "outputs": [],
   "source": [
    "bl=True\n",
    "type(bl)"
   ]
  },
  {
   "cell_type": "markdown",
   "id": "0c1e2294",
   "metadata": {},
   "source": [
    "# RANGE\n",
    "\n",
    "used for iteration\n",
    "\n",
    "syntax:- range(start,end,iteration)"
   ]
  },
  {
   "cell_type": "code",
   "execution_count": null,
   "id": "7fb4cbb6",
   "metadata": {},
   "outputs": [],
   "source": [
    "range(10)"
   ]
  },
  {
   "cell_type": "code",
   "execution_count": null,
   "id": "417eb9db",
   "metadata": {},
   "outputs": [],
   "source": [
    "ran=range(10)\n",
    "list(ran)"
   ]
  },
  {
   "cell_type": "code",
   "execution_count": null,
   "id": "20724f5d",
   "metadata": {},
   "outputs": [],
   "source": [
    "list(range(1,15,3))"
   ]
  },
  {
   "cell_type": "markdown",
   "id": "836072d3",
   "metadata": {},
   "source": [
    "# DICTIONARY (Mapping)\n",
    "\n",
    "it is a key value pair {key:value} where key can be of any datatype and value can be of any datatype\n",
    "\n",
    "dictionary items are ordered, changeable and does not allow duplicates"
   ]
  },
  {
   "cell_type": "code",
   "execution_count": null,
   "id": "7af489f0",
   "metadata": {},
   "outputs": [],
   "source": [
    "d={101:'book',201:'pen',301:'notebook'}\n",
    "\n",
    "print(type(d))\n",
    "print(d)"
   ]
  },
  {
   "cell_type": "code",
   "execution_count": null,
   "id": "9ce1dea9",
   "metadata": {},
   "outputs": [],
   "source": [
    "# keys() returns all keys of dictionary\n",
    "\n",
    "d.keys()"
   ]
  },
  {
   "cell_type": "code",
   "execution_count": null,
   "id": "92678612",
   "metadata": {},
   "outputs": [],
   "source": [
    "# values() return all values of dictionary\n",
    "\n",
    "d.values() "
   ]
  },
  {
   "cell_type": "code",
   "execution_count": null,
   "id": "25225a1e",
   "metadata": {},
   "outputs": [],
   "source": [
    "d[301] # we can access values by passing key in square brackets\n",
    "\n",
    "# another way to access value of a key\n",
    "\n",
    "# get() return values of passed key\n",
    "\n",
    "d.get(301)"
   ]
  },
  {
   "cell_type": "code",
   "execution_count": null,
   "id": "f0c664bd",
   "metadata": {},
   "outputs": [],
   "source": [
    "emptyDictionary={} # empty dictionary declaration\n",
    "\n",
    "print(type(emptyDictionary))\n",
    "\n",
    "emptyDictionary"
   ]
  },
  {
   "cell_type": "code",
   "execution_count": null,
   "id": "f996733f",
   "metadata": {},
   "outputs": [],
   "source": [
    "d2={99:\"grocery\",\"home\":\"apple\",22:44} # key,value can be of different datatype\n",
    "d2"
   ]
  },
  {
   "cell_type": "code",
   "execution_count": null,
   "id": "a4e2d0bc",
   "metadata": {},
   "outputs": [],
   "source": [
    "# return length of any item passed inside it\n",
    "\n",
    "len(d2) "
   ]
  },
  {
   "cell_type": "code",
   "execution_count": null,
   "id": "9624f5b4",
   "metadata": {},
   "outputs": [],
   "source": [
    "# items() return each item in a dictionary as tuples in list\n",
    "\n",
    "d2.items()"
   ]
  },
  {
   "cell_type": "code",
   "execution_count": null,
   "id": "844e269a",
   "metadata": {},
   "outputs": [],
   "source": [
    "# update() update dictionary with items from given arguments\n",
    "# if item does not exist, item will be added\n",
    "\n",
    "d2.update({\"year\":2022}) \n",
    "d2"
   ]
  },
  {
   "cell_type": "code",
   "execution_count": null,
   "id": "e38e0fc9",
   "metadata": {},
   "outputs": [],
   "source": [
    "# pop() removes item with specified key\n",
    "\n",
    "d2.pop(99)\n",
    "d2"
   ]
  },
  {
   "cell_type": "code",
   "execution_count": null,
   "id": "0ae0bdbb",
   "metadata": {},
   "outputs": [],
   "source": [
    "# popitem() removes last inserted item\n",
    "d2.popitem()\n",
    "d2"
   ]
  },
  {
   "cell_type": "code",
   "execution_count": null,
   "id": "141b2335",
   "metadata": {},
   "outputs": [],
   "source": [
    "# setdefault() returns value of item with specified key\n",
    "# if key does not exist, insert key with specified  value\n",
    "d2.setdefault('color','red')\n",
    "d2"
   ]
  },
  {
   "cell_type": "code",
   "execution_count": null,
   "id": "13604f13",
   "metadata": {},
   "outputs": [],
   "source": [
    "# copy() create a copy \n",
    "\n",
    "d3=d2.copy()\n",
    "print(d3)\n",
    "\n",
    "# we can also create copy by:-\n",
    "d2=d3\n",
    "print(d3)"
   ]
  },
  {
   "cell_type": "code",
   "execution_count": null,
   "id": "aebbc7e2",
   "metadata": {},
   "outputs": [],
   "source": [
    "del d2[22]\n",
    "d2"
   ]
  },
  {
   "cell_type": "code",
   "execution_count": null,
   "id": "3fb3625f",
   "metadata": {},
   "outputs": [],
   "source": [
    "# clear() method empties dictionary\n",
    "\n",
    "d2.clear()\n",
    "d2"
   ]
  },
  {
   "cell_type": "code",
   "execution_count": null,
   "id": "b6747fe9",
   "metadata": {},
   "outputs": [],
   "source": [
    "d2[22]"
   ]
  },
  {
   "cell_type": "code",
   "execution_count": null,
   "id": "a14a1fe4",
   "metadata": {},
   "outputs": [],
   "source": [
    "# demo for all dictionary methods\n",
    "\n",
    "dict1 = {1: \"Python\", 2: \"Java\", 3: \"Ruby\", 4: \"Scala\"}\n",
    "\n",
    "# copy() method\n",
    "dict2 = dict1.copy()\n",
    "print(dict2)\n",
    "\n",
    "# clear() method\n",
    "dict1.clear()\n",
    "print(dict1)\n",
    "\n",
    "# get() method\n",
    "print(dict2.get(1))\n",
    "\n",
    "# items() method\n",
    "print(dict2.items())\n",
    "\n",
    "# keys() method\n",
    "print(dict2.keys())\n",
    "\n",
    "# pop() method\n",
    "dict2.pop(4)\n",
    "print(dict2)\n",
    "\n",
    "# popitem() method\n",
    "dict2.popitem()\n",
    "print(dict2)\n",
    "\n",
    "# update() method\n",
    "dict2.update({3: \"Scala\"})\n",
    "print(dict2)\n",
    "\n",
    "# values() method\n",
    "print(dict2.values())\n"
   ]
  },
  {
   "cell_type": "code",
   "execution_count": null,
   "id": "efec2b41",
   "metadata": {},
   "outputs": [],
   "source": [
    "# dict() can be used to create dictionary as well\n",
    "\n",
    "di=dict(name=\"ram\",roll=4)\n",
    "print(di)\n",
    "\n",
    "# we can also use dict() for creating copy of dictionary\n",
    "diCopy=dict(di)\n",
    "print(diCopy)"
   ]
  },
  {
   "cell_type": "markdown",
   "id": "e7ce223d",
   "metadata": {},
   "source": [
    "## creating dictionary with user input"
   ]
  },
  {
   "cell_type": "code",
   "execution_count": null,
   "id": "fd00fffd",
   "metadata": {},
   "outputs": [],
   "source": [
    "# method 1 (duplicate key not allowed)\n",
    "\n",
    "d3={}\n",
    "n=int(input(\"Enter size: \"))\n",
    "for i in range(n):\n",
    "    key=input(\"Enter key: \")\n",
    "    value=input(\"Enter value: \")\n",
    "    d3[key]=value\n",
    "print(d3)"
   ]
  },
  {
   "cell_type": "code",
   "execution_count": null,
   "id": "a7dcdb3e",
   "metadata": {},
   "outputs": [],
   "source": [
    "# method 1 (duplicate key not allowed)\n",
    "\n",
    "d3={}\n",
    "n=int(input(\"Enter size: \"))\n",
    "for i in range(n):\n",
    "    key=input(\"Enter key: \")\n",
    "    value=input(\"Enter value: \")\n",
    "    if key not in d3: # hnadling duplicate keys explicitly\n",
    "        d3[key]=value\n",
    "print(d3)"
   ]
  },
  {
   "cell_type": "code",
   "execution_count": null,
   "id": "b31aa0c0",
   "metadata": {},
   "outputs": [],
   "source": [
    "# method 2\n",
    "\n",
    "string=input(\"Enter key and value separated by space: \")\n",
    "d4=dict(item.split() for item in string.splitlines())\n",
    "print(d4)"
   ]
  },
  {
   "cell_type": "code",
   "execution_count": null,
   "id": "bb4d6d01",
   "metadata": {},
   "outputs": [],
   "source": [
    "# method 3\n",
    "\n",
    "n=int(input(\"Enter size: \"))\n",
    "d5=dict(input(\"Enter key and value separated by space: \").split() for i in range(n))\n",
    "print(d5)"
   ]
  },
  {
   "cell_type": "code",
   "execution_count": null,
   "id": "6aba3829",
   "metadata": {},
   "outputs": [],
   "source": [
    "print(d5)"
   ]
  },
  {
   "cell_type": "markdown",
   "id": "c2250d42",
   "metadata": {},
   "source": [
    "# PRINT FORMAT"
   ]
  },
  {
   "cell_type": "code",
   "execution_count": 14,
   "id": "bb527800",
   "metadata": {},
   "outputs": [
    {
     "name": "stdout",
     "output_type": "stream",
     "text": [
      "Age=50, Name=Python, Rate=3.553300\n",
      "Age=50, Name=Python, Rate=3.553\n"
     ]
    }
   ],
   "source": [
    "# using %d %s\n",
    "\n",
    "age=50\n",
    "name=\"Python\"\n",
    "rate=3.5533\n",
    "print(\"Age=%d, Name=%s, Rate=%f\"%(age,name,rate))\n",
    "print(\"Age=%d, Name=%s, Rate=%.3f\"%(age,name,rate))"
   ]
  },
  {
   "cell_type": "code",
   "execution_count": 16,
   "id": "a8678abc",
   "metadata": {},
   "outputs": [
    {
     "name": "stdout",
     "output_type": "stream",
     "text": [
      "Age=50, Name=Python, Rate=3.5533\n"
     ]
    }
   ],
   "source": [
    "# format() method\n",
    "\n",
    "age=50\n",
    "name=\"Python\"\n",
    "rate=3.5533\n",
    "print(\"Age={}, Name={}, Rate={}\".format(age,name,rate))"
   ]
  },
  {
   "cell_type": "code",
   "execution_count": 2,
   "id": "a22b8fed",
   "metadata": {},
   "outputs": [
    {
     "name": "stdout",
     "output_type": "stream",
     "text": [
      "Age=50, Name=Python, Rate=3.5533\n"
     ]
    }
   ],
   "source": [
    "# f method\n",
    "\n",
    "age=50\n",
    "name=\"Python\"\n",
    "rate=3.5533\n",
    "print(f\"Age={age}, Name={name}, Rate={rate}\")"
   ]
  },
  {
   "cell_type": "code",
   "execution_count": null,
   "id": "bb08d41e",
   "metadata": {},
   "outputs": [],
   "source": []
  }
 ],
 "metadata": {
  "kernelspec": {
   "display_name": "Python 3 (ipykernel)",
   "language": "python",
   "name": "python3"
  },
  "language_info": {
   "codemirror_mode": {
    "name": "ipython",
    "version": 3
   },
   "file_extension": ".py",
   "mimetype": "text/x-python",
   "name": "python",
   "nbconvert_exporter": "python",
   "pygments_lexer": "ipython3",
   "version": "3.9.6"
  }
 },
 "nbformat": 4,
 "nbformat_minor": 5
}
